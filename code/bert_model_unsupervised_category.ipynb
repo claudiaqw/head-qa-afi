{
 "cells": [
  {
   "cell_type": "code",
   "execution_count": 13,
   "metadata": {},
   "outputs": [
    {
     "name": "stdout",
     "output_type": "stream",
     "text": [
      "The autoreload extension is already loaded. To reload it, use:\n",
      "  %reload_ext autoreload\n"
     ]
    }
   ],
   "source": [
    "import os\n",
    "import time\n",
    "import datetime\n",
    "import pandas as pd\n",
    "import numpy as np \n",
    "import matplotlib.pyplot as plt\n",
    "import seaborn as sns\n",
    "from collections import Counter\n",
    "\n",
    "import torch\n",
    "import torch.nn as nn\n",
    "import torch.nn.functional as F\n",
    "import torch.optim as optim\n",
    "from torch.optim import lr_scheduler\n",
    "from torch.utils.data import Dataset, DataLoader, TensorDataset, SequentialSampler, RandomSampler\n",
    "from torch.nn.utils.rnn import pack_padded_sequence, pad_packed_sequence\n",
    "\n",
    "from utils_data import filter_by_category, save_dataset_to_pickle, load_dataset_from_pickle\n",
    "from training import evaluate, validate_ir, evaluator_bert_ir, encoder_bert_ir, encoder_bert_ir_instance\n",
    "\n",
    "import transformers\n",
    "from transformers.optimization import AdamW\n",
    "from transformers import BertForSequenceClassification, BertConfig, BertTokenizer, BertModel, BertForMaskedLM\n",
    "\n",
    "from unsupervised_models import BERTSimilarity\n",
    "\n",
    "\n",
    "%matplotlib inline\n",
    "%load_ext autoreload\n",
    "%autoreload 2"
   ]
  },
  {
   "cell_type": "code",
   "execution_count": 14,
   "metadata": {},
   "outputs": [
    {
     "name": "stderr",
     "output_type": "stream",
     "text": [
      "Reusing dataset head_qa (C:\\Users\\tec005m\\.cache\\huggingface\\datasets\\head_qa\\es\\1.1.0\\473dc5357942a3ff52963bd73cad0d167bd1bbc1ca5ca0732ee7372b480dd735)\n"
     ]
    }
   ],
   "source": [
    "from datasets import load_dataset\n",
    "\n",
    "data_es = load_dataset('head_qa', 'es' )"
   ]
  },
  {
   "cell_type": "code",
   "execution_count": 15,
   "metadata": {},
   "outputs": [],
   "source": [
    "training, validation, testing = data_es['train'], data_es['validation'], data_es['test']"
   ]
  },
  {
   "cell_type": "code",
   "execution_count": 16,
   "metadata": {},
   "outputs": [],
   "source": [
    "# training_instances = parse_dataset_ir(training)\n",
    "# validation_instances = parse_dataset_ir(validation)\n",
    "# testing_instances = parse_dataset_ir(testing)\n",
    "\n",
    "# oversampled_training = random_oversamplig(training_instances)"
   ]
  },
  {
   "cell_type": "code",
   "execution_count": 17,
   "metadata": {},
   "outputs": [],
   "source": [
    "training_instances = load_dataset_from_pickle('../data/training_ir.pickle')\n",
    "validation_instances = load_dataset_from_pickle('../data/validation_ir.pickle')\n",
    "testing_instances = load_dataset_from_pickle('../data/testing_ir.pickle')\n",
    "oversampled_training = load_dataset_from_pickle('../data/oversampled_training_ir.pickle')"
   ]
  },
  {
   "cell_type": "code",
   "execution_count": 18,
   "metadata": {},
   "outputs": [],
   "source": [
    "categories = ['biology', 'nursery', 'pharmacology', 'medicine', 'psychology', 'chemistry']"
   ]
  },
  {
   "cell_type": "code",
   "execution_count": 19,
   "metadata": {},
   "outputs": [
    {
     "name": "stderr",
     "output_type": "stream",
     "text": [
      "Some weights of the model checkpoint at dccuchile/bert-base-spanish-wwm-cased were not used when initializing BertModel: ['cls.predictions.transform.LayerNorm.bias', 'cls.predictions.bias', 'cls.predictions.decoder.weight', 'cls.predictions.transform.dense.weight', 'cls.predictions.transform.dense.bias', 'cls.predictions.decoder.bias', 'cls.predictions.transform.LayerNorm.weight']\n",
      "- This IS expected if you are initializing BertModel from the checkpoint of a model trained on another task or with another architecture (e.g. initializing a BertForSequenceClassification model from a BertForPreTraining model).\n",
      "- This IS NOT expected if you are initializing BertModel from the checkpoint of a model that you expect to be exactly identical (initializing a BertForSequenceClassification model from a BertForSequenceClassification model).\n",
      "Some weights of BertModel were not initialized from the model checkpoint at dccuchile/bert-base-spanish-wwm-cased and are newly initialized: ['bert.pooler.dense.weight', 'bert.pooler.dense.bias']\n",
      "You should probably TRAIN this model on a down-stream task to be able to use it for predictions and inference.\n"
     ]
    }
   ],
   "source": [
    "BASE_BERT = 'dccuchile/bert-base-spanish-wwm-cased'\n",
    "tokenizer = BertTokenizer.from_pretrained(BASE_BERT, do_lower_case=False)\n",
    "model = BERTSimilarity(pretrained_model=BASE_BERT)\n",
    "batch_size = 8"
   ]
  },
  {
   "cell_type": "code",
   "execution_count": null,
   "metadata": {},
   "outputs": [
    {
     "name": "stdout",
     "output_type": "stream",
     "text": [
      "biology ...\n",
      "Validation on DEV ...\n",
      "DEV biology\n",
      "Accuracy: 0.22566372156143188\n",
      "Points: -22\n",
      "\n",
      "Validation on TEST ...\n",
      "TEST biology\n",
      "Accuracy: 0.21365638077259064\n",
      "Points: -66\n",
      "\n",
      "-------------------\n",
      "\n",
      "nursery ...\n",
      "Validation on DEV ...\n",
      "DEV nursery\n",
      "Accuracy: 0.25217390060424805\n",
      "Points: 2\n",
      "\n",
      "Validation on TEST ...\n",
      "TEST nursery\n",
      "Accuracy: 0.2461538463830948\n",
      "Points: -7\n",
      "\n",
      "-------------------\n",
      "\n",
      "pharmacology ...\n",
      "Validation on DEV ...\n",
      "DEV pharmacology\n",
      "Accuracy: 0.2133333384990692\n",
      "Points: -33\n",
      "\n",
      "Validation on TEST ...\n",
      "TEST pharmacology\n",
      "Accuracy: 0.20787745714187622\n",
      "Points: -77\n",
      "\n",
      "-------------------\n",
      "\n",
      "medicine ...\n",
      "Validation on DEV ...\n",
      "DEV medicine\n",
      "Accuracy: 0.21645021438598633\n",
      "Points: -31\n",
      "\n",
      "Validation on TEST ...\n"
     ]
    }
   ],
   "source": [
    "results = {}\n",
    "for CATEGORY in categories:\n",
    "    print(f\"{CATEGORY} ...\")\n",
    "    \n",
    "    results[CATEGORY] = {}\n",
    "    \n",
    "    validation_categ = filter_by_category(validation_instances, category=CATEGORY)\n",
    "    testing_categ = filter_by_category(testing_instances, category=CATEGORY)\n",
    "\n",
    "    dev_categ = filter_by_category(validation, category=CATEGORY)\n",
    "    test_categ = filter_by_category(testing, category=CATEGORY)\n",
    "    \n",
    "    print(f\"Validation on DEV ...\")\n",
    "    \n",
    "    acc, points = evaluate(model, dev_categ, encoder_bert_ir_instance, evaluator_bert_ir)\n",
    "    results[CATEGORY]['Accuracy_Dev'] = acc\n",
    "    results[CATEGORY]['Points_Dev'] = points   \n",
    "    \n",
    "    print(f\"DEV {CATEGORY}\")\n",
    "    print(f'Accuracy: {acc}')\n",
    "    print(f'Points: {points}')\n",
    "    print()\n",
    "        \n",
    "    print(f\"Validation on TEST ...\")    \n",
    "    acc, points =  evaluate(model, test_categ, encoder_bert_ir_instance, evaluator_bert_ir)\n",
    "    results[CATEGORY]['Accuracy_Test'] = acc\n",
    "    results[CATEGORY]['Points_Test'] = points\n",
    "    \n",
    "    print(f\"TEST {CATEGORY}\")\n",
    "    print(f'Accuracy: {acc}')\n",
    "    print(f'Points: {points}')\n",
    "    print()\n",
    "    print('-------------------')\n",
    "    print()"
   ]
  },
  {
   "cell_type": "code",
   "execution_count": null,
   "metadata": {},
   "outputs": [],
   "source": [
    "save_dataset_to_pickle('results_unsupervised_model_category.pickle', results)"
   ]
  },
  {
   "cell_type": "code",
   "execution_count": null,
   "metadata": {},
   "outputs": [],
   "source": []
  }
 ],
 "metadata": {
  "kernelspec": {
   "display_name": "Python 3",
   "language": "python",
   "name": "python3"
  },
  "language_info": {
   "codemirror_mode": {
    "name": "ipython",
    "version": 3
   },
   "file_extension": ".py",
   "mimetype": "text/x-python",
   "name": "python",
   "nbconvert_exporter": "python",
   "pygments_lexer": "ipython3",
   "version": "3.8.5"
  }
 },
 "nbformat": 4,
 "nbformat_minor": 4
}
