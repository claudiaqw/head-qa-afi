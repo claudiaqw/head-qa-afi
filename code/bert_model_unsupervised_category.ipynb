{
 "cells": [
  {
   "cell_type": "code",
   "execution_count": 1,
   "metadata": {},
   "outputs": [
    {
     "name": "stderr",
     "output_type": "stream",
     "text": [
      "C:\\Users\\tec005m\\Anaconda3\\envs\\afi\\lib\\site-packages\\gensim\\similarities\\__init__.py:15: UserWarning: The gensim.similarities.levenshtein submodule is disabled, because the optional Levenshtein package <https://pypi.org/project/python-Levenshtein/> is unavailable. Install Levenhstein (e.g. `pip install python-Levenshtein`) to suppress this warning.\n",
      "  warnings.warn(msg)\n"
     ]
    }
   ],
   "source": [
    "import os\n",
    "import time\n",
    "import datetime\n",
    "import pandas as pd\n",
    "import numpy as np \n",
    "import matplotlib.pyplot as plt\n",
    "import seaborn as sns\n",
    "from collections import Counter\n",
    "\n",
    "import torch\n",
    "import torch.nn as nn\n",
    "import torch.nn.functional as F\n",
    "import torch.optim as optim\n",
    "from torch.optim import lr_scheduler\n",
    "from torch.utils.data import Dataset, DataLoader, TensorDataset, SequentialSampler, RandomSampler\n",
    "from torch.nn.utils.rnn import pack_padded_sequence, pad_packed_sequence\n",
    "\n",
    "from utils_data import filter_by_category, save_dataset_to_pickle, load_dataset_from_pickle\n",
    "from training import evaluate_better, validate_ir, evaluator_bert_ir, encoder_bert_ir, encoder_bert_ir_instance\n",
    "\n",
    "import transformers\n",
    "from transformers.optimization import AdamW\n",
    "from transformers import BertForSequenceClassification, BertConfig, BertTokenizer, BertModel, BertForMaskedLM\n",
    "\n",
    "from unsupervised_models import BERTSimilarity\n",
    "\n",
    "\n",
    "%matplotlib inline\n",
    "%load_ext autoreload\n",
    "%autoreload 2"
   ]
  },
  {
   "cell_type": "code",
   "execution_count": 2,
   "metadata": {},
   "outputs": [
    {
     "name": "stderr",
     "output_type": "stream",
     "text": [
      "Reusing dataset head_qa (C:\\Users\\tec005m\\.cache\\huggingface\\datasets\\head_qa\\es\\1.1.0\\473dc5357942a3ff52963bd73cad0d167bd1bbc1ca5ca0732ee7372b480dd735)\n"
     ]
    }
   ],
   "source": [
    "from datasets import load_dataset\n",
    "\n",
    "data_es = load_dataset('head_qa', 'es' )"
   ]
  },
  {
   "cell_type": "code",
   "execution_count": 3,
   "metadata": {},
   "outputs": [],
   "source": [
    "training, validation, testing = data_es['train'], data_es['validation'], data_es['test']"
   ]
  },
  {
   "cell_type": "code",
   "execution_count": 4,
   "metadata": {},
   "outputs": [],
   "source": [
    "# training_instances = parse_dataset_ir(training)\n",
    "# validation_instances = parse_dataset_ir(validation)\n",
    "# testing_instances = parse_dataset_ir(testing)\n",
    "\n",
    "# oversampled_training = random_oversamplig(training_instances)"
   ]
  },
  {
   "cell_type": "code",
   "execution_count": 5,
   "metadata": {},
   "outputs": [],
   "source": [
    "training_instances = load_dataset_from_pickle('../data/training_ir.pickle')\n",
    "validation_instances = load_dataset_from_pickle('../data/validation_ir.pickle')\n",
    "testing_instances = load_dataset_from_pickle('../data/testing_ir.pickle')\n",
    "oversampled_training = load_dataset_from_pickle('../data/oversampled_training_ir.pickle')"
   ]
  },
  {
   "cell_type": "code",
   "execution_count": 6,
   "metadata": {},
   "outputs": [],
   "source": [
    "categories = ['biology', 'nursery', 'pharmacology', 'medicine', 'psychology', 'chemistry']"
   ]
  },
  {
   "cell_type": "code",
   "execution_count": 7,
   "metadata": {},
   "outputs": [
    {
     "name": "stderr",
     "output_type": "stream",
     "text": [
      "Some weights of the model checkpoint at dccuchile/bert-base-spanish-wwm-cased were not used when initializing BertModel: ['cls.predictions.decoder.weight', 'cls.predictions.bias', 'cls.predictions.transform.LayerNorm.weight', 'cls.predictions.transform.LayerNorm.bias', 'cls.predictions.transform.dense.bias', 'cls.predictions.transform.dense.weight', 'cls.predictions.decoder.bias']\n",
      "- This IS expected if you are initializing BertModel from the checkpoint of a model trained on another task or with another architecture (e.g. initializing a BertForSequenceClassification model from a BertForPreTraining model).\n",
      "- This IS NOT expected if you are initializing BertModel from the checkpoint of a model that you expect to be exactly identical (initializing a BertForSequenceClassification model from a BertForSequenceClassification model).\n",
      "Some weights of BertModel were not initialized from the model checkpoint at dccuchile/bert-base-spanish-wwm-cased and are newly initialized: ['bert.pooler.dense.bias', 'bert.pooler.dense.weight']\n",
      "You should probably TRAIN this model on a down-stream task to be able to use it for predictions and inference.\n"
     ]
    }
   ],
   "source": [
    "BASE_BERT = 'dccuchile/bert-base-spanish-wwm-cased'\n",
    "tokenizer = BertTokenizer.from_pretrained(BASE_BERT, do_lower_case=False)\n",
    "model = BERTSimilarity(pretrained_model=BASE_BERT)\n",
    "batch_size = 8"
   ]
  },
  {
   "cell_type": "code",
   "execution_count": 9,
   "metadata": {},
   "outputs": [
    {
     "name": "stdout",
     "output_type": "stream",
     "text": [
      "biology ...\n",
      "Validation on DEV ...\n",
      "DEV biology\n",
      "Accuracy: 0.22566372156143188\n",
      "Points: -22.0\n",
      "[tensor(0.2257)]\n",
      "[-22]\n",
      "\n",
      "Validation on TEST ...\n",
      "TEST biology\n",
      "Accuracy: 0.21367023885250092\n",
      "Points: -33.0\n",
      "[tensor(0.2105), tensor(0.2168)]\n",
      "[-36, -30]\n",
      "\n",
      "-------------------\n",
      "\n",
      "nursery ...\n",
      "Validation on DEV ...\n",
      "DEV nursery\n",
      "Accuracy: 0.25217390060424805\n",
      "Points: 2.0\n",
      "[tensor(0.2522)]\n",
      "[2]\n",
      "\n",
      "Validation on TEST ...\n",
      "TEST nursery\n",
      "Accuracy: 0.24590227007865906\n",
      "Points: -3.5\n",
      "[tensor(0.2332), tensor(0.2586)]\n",
      "[-15, 8]\n",
      "\n",
      "-------------------\n",
      "\n",
      "pharmacology ...\n",
      "Validation on DEV ...\n",
      "DEV pharmacology\n",
      "Accuracy: 0.2133333384990692\n",
      "Points: -33.0\n",
      "[tensor(0.2133)]\n",
      "[-33]\n",
      "\n",
      "Validation on TEST ...\n",
      "TEST pharmacology\n",
      "Accuracy: 0.20786410570144653\n",
      "Points: -38.5\n",
      "[tensor(0.2018), tensor(0.2140)]\n",
      "[-44, -33]\n",
      "\n",
      "-------------------\n",
      "\n",
      "medicine ...\n",
      "Validation on DEV ...\n",
      "DEV medicine\n",
      "Accuracy: 0.21645021438598633\n",
      "Points: -31.0\n",
      "[tensor(0.2165)]\n",
      "[-31]\n",
      "\n",
      "Validation on TEST ...\n",
      "TEST medicine\n",
      "Accuracy: 0.26784780621528625\n",
      "Points: 16.5\n",
      "[tensor(0.2543), tensor(0.2814)]\n",
      "[4, 29]\n",
      "\n",
      "-------------------\n",
      "\n",
      "psychology ...\n",
      "Validation on DEV ...\n",
      "DEV psychology\n",
      "Accuracy: 0.19911503791809082\n",
      "Points: -46.0\n",
      "[tensor(0.1991)]\n",
      "[-46]\n",
      "\n",
      "Validation on TEST ...\n",
      "TEST psychology\n",
      "Accuracy: 0.22164250910282135\n",
      "Points: -25.5\n",
      "[tensor(0.2522), tensor(0.1911)]\n",
      "[2, -53]\n",
      "\n",
      "-------------------\n",
      "\n",
      "chemistry ...\n",
      "Validation on DEV ...\n",
      "DEV chemistry\n",
      "Accuracy: 0.20614035427570343\n",
      "Points: -40.0\n",
      "[tensor(0.2061)]\n",
      "[-40]\n",
      "\n",
      "Validation on TEST ...\n",
      "TEST chemistry\n",
      "Accuracy: 0.25762343406677246\n",
      "Points: 7.0\n",
      "[tensor(0.2597), tensor(0.2555)]\n",
      "[9, 5]\n",
      "\n",
      "-------------------\n",
      "\n"
     ]
    }
   ],
   "source": [
    "results = {}\n",
    "for CATEGORY in categories:\n",
    "    print(f\"{CATEGORY} ...\")\n",
    "    \n",
    "    results[CATEGORY] = {}\n",
    "    \n",
    "    validation_categ = filter_by_category(validation_instances, category=CATEGORY)\n",
    "    testing_categ = filter_by_category(testing_instances, category=CATEGORY)\n",
    "\n",
    "    dev_categ = filter_by_category(validation, category=CATEGORY)\n",
    "    test_categ = filter_by_category(testing, category=CATEGORY)\n",
    "    \n",
    "    print(f\"Validation on DEV ...\")\n",
    "    \n",
    "    acc, points, acc_list, points_list = evaluate_better(model, dev_categ, encoder_bert_ir_instance, evaluator_bert_ir, bert=True)\n",
    "    results[CATEGORY]['Accuracy_Dev'] = acc\n",
    "    results[CATEGORY]['Points_Dev'] = points  \n",
    "    results[CATEGORY]['AccuracyList_Dev'] = acc_list\n",
    "    results[CATEGORY]['Pointslist_Dev'] = points_list\n",
    "    \n",
    "    print(f\"DEV {CATEGORY}\")\n",
    "    print(f'Accuracy: {acc}')\n",
    "    print(f'Points: {points}')\n",
    "    print(acc_list)\n",
    "    print(points_list)\n",
    "    print()\n",
    "        \n",
    "    print(f\"Validation on TEST ...\")    \n",
    "    acc, points, acc_list, points_list =  evaluate_better(model, test_categ, encoder_bert_ir_instance, evaluator_bert_ir, bert=True)\n",
    "    results[CATEGORY]['Accuracy_Test'] = acc\n",
    "    results[CATEGORY]['Points_Test'] = points\n",
    "    results[CATEGORY]['AccuracyList_Dev'] = acc_list\n",
    "    results[CATEGORY]['Pointslist_Dev'] = points_list\n",
    "    \n",
    "    print(f\"TEST {CATEGORY}\")\n",
    "    print(f'Accuracy: {acc}')\n",
    "    print(f'Points: {points}')\n",
    "    print(acc_list)\n",
    "    print(points_list)\n",
    "    print()\n",
    "    print('-------------------')\n",
    "    print()"
   ]
  },
  {
   "cell_type": "code",
   "execution_count": 10,
   "metadata": {},
   "outputs": [],
   "source": [
    "save_dataset_to_pickle('results_unsupervised_model_category_ok.pickle', results)"
   ]
  },
  {
   "cell_type": "code",
   "execution_count": null,
   "metadata": {},
   "outputs": [],
   "source": []
  }
 ],
 "metadata": {
  "kernelspec": {
   "display_name": "Python 3",
   "language": "python",
   "name": "python3"
  },
  "language_info": {
   "codemirror_mode": {
    "name": "ipython",
    "version": 3
   },
   "file_extension": ".py",
   "mimetype": "text/x-python",
   "name": "python",
   "nbconvert_exporter": "python",
   "pygments_lexer": "ipython3",
   "version": "3.8.5"
  }
 },
 "nbformat": 4,
 "nbformat_minor": 4
}
