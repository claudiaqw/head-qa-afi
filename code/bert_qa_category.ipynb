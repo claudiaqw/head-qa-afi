{
  "nbformat": 4,
  "nbformat_minor": 5,
  "metadata": {
    "colab": {
      "name": "bert_qa_category.ipynb",
      "provenance": []
    },
    "language_info": {
      "name": "python"
    },
    "kernelspec": {
      "name": "python3",
      "display_name": "Python 3"
    }
  },
  "cells": [
    {
      "cell_type": "code",
      "metadata": {
        "id": "r9eDs7ke1zta"
      },
      "source": [
        "from google.colab import drive\n",
        "drive.mount('/content/gdrive')"
      ],
      "id": "r9eDs7ke1zta",
      "execution_count": null,
      "outputs": []
    },
    {
      "cell_type": "code",
      "metadata": {
        "id": "NvTFFxwY5gcf"
      },
      "source": [
        "import sys\n",
        "sys.path.insert(0,'/content/head-qa-afi/code')\n",
        "sys.path.insert(0,'/content/head-qa-afi/code')"
      ],
      "id": "NvTFFxwY5gcf",
      "execution_count": null,
      "outputs": []
    },
    {
      "cell_type": "code",
      "metadata": {
        "id": "83CL8XlF8ofG"
      },
      "source": [
        "# !git clone https://github.com/claudiaqw/head-qa-afi.git"
      ],
      "id": "83CL8XlF8ofG",
      "execution_count": null,
      "outputs": []
    },
    {
      "cell_type": "code",
      "metadata": {
        "id": "hkAA-rKA2y50"
      },
      "source": [
        "!pip install transformers\n",
        "!pip install datasets\n",
        "!python -m spacy download es_core_news_sm\n",
        "!pip install pickle5\n",
        "# !python -m spacy download es_core_news_lg"
      ],
      "id": "hkAA-rKA2y50",
      "execution_count": null,
      "outputs": []
    },
    {
      "cell_type": "code",
      "metadata": {
        "id": "rWIy6aIz14ET"
      },
      "source": [
        "import os\n",
        "import time\n",
        "import datetime\n",
        "import pandas as pd\n",
        "import numpy as np \n",
        "import matplotlib.pyplot as plt\n",
        "import seaborn as sns\n",
        "from collections import Counter\n",
        "\n",
        "import copy\n",
        "import spacy\n",
        "import pickle5 as pickle\n",
        "import collections\n",
        "from tqdm import tqdm_notebook, trange\n",
        "\n",
        "\n",
        "import torch\n",
        "import torch.nn as nn\n",
        "import torch.nn.functional as F\n",
        "import torch.optim as optim\n",
        "from torch.optim import lr_scheduler\n",
        "from torch.utils.data import Dataset, DataLoader, TensorDataset, SequentialSampler, RandomSampler\n",
        "from torch.nn.utils.rnn import pack_padded_sequence, pad_packed_sequence\n",
        "\n",
        "import transformers\n",
        "from transformers.optimization import AdamW\n",
        "from transformers import BertForSequenceClassification, BertConfig, BertTokenizer, BertModel, BertForMaskedLM\n",
        "from transformers import get_linear_schedule_with_warmup\n",
        "\n",
        "\n",
        "%matplotlib inline\n",
        "%load_ext autoreload\n",
        "%autoreload 2"
      ],
      "id": "rWIy6aIz14ET",
      "execution_count": null,
      "outputs": []
    },
    {
      "cell_type": "code",
      "metadata": {
        "id": "glySPyzQ25PF"
      },
      "source": [
        "BASE_BERT = 'dccuchile/bert-base-spanish-wwm-cased'"
      ],
      "id": "glySPyzQ25PF",
      "execution_count": null,
      "outputs": []
    },
    {
      "cell_type": "code",
      "metadata": {
        "id": "mvG7EF7E26tl"
      },
      "source": [
        "from datasets import load_dataset\n",
        "\n",
        "data_es = load_dataset('head_qa', 'es' )\n",
        "training, validation, testing = data_es['train'], data_es['validation'], data_es['test']"
      ],
      "id": "mvG7EF7E26tl",
      "execution_count": null,
      "outputs": []
    },
    {
      "cell_type": "code",
      "metadata": {
        "id": "ppO775Fz7cyY"
      },
      "source": [
        "import pickle5 as pickle\n",
        "\n",
        "def load_dataset_from_pickle(filename):\n",
        "    with open(filename, 'rb') as handle:\n",
        "        return pickle.load(handle)\n",
        "\n",
        "def filter_by_category(dataset, category):\n",
        "    filtered_dataset = []\n",
        "    for instance in dataset:\n",
        "        categ = instance['category']\n",
        "        if categ == category:\n",
        "            filtered_dataset.append(instance)\n",
        "    return filtered_dataset"
      ],
      "id": "ppO775Fz7cyY",
      "execution_count": null,
      "outputs": []
    },
    {
      "cell_type": "code",
      "metadata": {
        "id": "8XS5I6FP5zjG"
      },
      "source": [
        "import training\n",
        "from training import get_optimizer, train, train_ir, validate, validate_ir, evaluator, evaluator_ir, evaluate\n",
        "from training import load_embeddings_from_file, make_embedding_matrix\n",
        "from training import pad_seq, encoder_bert, encoder_bert_ir, encoder_bert_instance, encoder_bert_ir_instance\n",
        "from training import evaluator_bert, evaluator_bert_ir\n",
        "\n",
        "from ir_models import BERT_QA"
      ],
      "id": "8XS5I6FP5zjG",
      "execution_count": null,
      "outputs": []
    },
    {
      "cell_type": "code",
      "metadata": {
        "id": "G8hvsuZq7Mo-"
      },
      "source": [
        "training_instances = load_dataset_from_pickle('/content/head-qa-afi/data/training_ir.pickle')\n",
        "validation_instances = load_dataset_from_pickle('/content/head-qa-afi/data/validation_ir.pickle')\n",
        "testing_instances = load_dataset_from_pickle('/content/head-qa-afi/data/testing_ir.pickle')\n",
        "oversampled_training = load_dataset_from_pickle('/content/head-qa-afi/data/oversampled_training_ir.pickle')"
      ],
      "id": "G8hvsuZq7Mo-",
      "execution_count": null,
      "outputs": []
    },
    {
      "cell_type": "code",
      "metadata": {
        "id": "rVkPdQ5e29wF"
      },
      "source": [
        "tokenizer = BertTokenizer.from_pretrained(BASE_BERT, do_lower_case=False)"
      ],
      "id": "rVkPdQ5e29wF",
      "execution_count": null,
      "outputs": []
    },
    {
      "cell_type": "code",
      "metadata": {
        "id": "HIK0RVR63MbH"
      },
      "source": [
        "train_inputs_0, train_masks_0, train_inputs_1, train_masks_1, train_labels = encoder_bert_ir(oversampled_training, tokenizer)\n",
        "valid_inputs_0, valid_masks_0, valid_inputs_1, valid_masks_1, valid_labels = encoder_bert_ir(validation_instances, tokenizer)\n",
        "test_inputs_0, test_masks_0, test_inputs_1, test_masks_1, test_labels = encoder_bert_ir(testing_instances, tokenizer)"
      ],
      "id": "HIK0RVR63MbH",
      "execution_count": null,
      "outputs": []
    },
    {
      "cell_type": "code",
      "metadata": {
        "id": "T5610IBa4oIn"
      },
      "source": [
        "train_inputs_0 = torch.tensor(train_inputs_0)\n",
        "valid_inputs_0 = torch.tensor(valid_inputs_0)\n",
        "test_inputs_0 = torch.tensor(test_inputs_0)\n",
        "\n",
        "train_masks_0 = torch.tensor(train_masks_0)\n",
        "valid_masks_0 = torch.tensor(valid_masks_0)\n",
        "test_masks_0 = torch.tensor(test_masks_0)\n",
        "\n",
        "train_inputs_1 = torch.tensor(train_inputs_1)\n",
        "valid_inputs_1 = torch.tensor(valid_inputs_1)\n",
        "test_inputs_1 = torch.tensor(test_inputs_1)\n",
        "\n",
        "train_masks_1 = torch.tensor(train_masks_1)\n",
        "valid_masks_1 = torch.tensor(valid_masks_1)\n",
        "test_masks_1 = torch.tensor(test_masks_1)\n",
        "\n",
        "train_labels = torch.tensor(train_labels)\n",
        "valid_labels = torch.tensor(valid_labels)\n",
        "test_labels = torch.tensor(test_labels)"
      ],
      "id": "T5610IBa4oIn",
      "execution_count": null,
      "outputs": []
    },
    {
      "cell_type": "code",
      "metadata": {
        "id": "zNzmxpgQ9bgz"
      },
      "source": [
        "batch_size = 8\n",
        "\n",
        "# Create the DataLoader for our training set.\n",
        "train_data = TensorDataset(train_inputs_0, train_masks_0, train_inputs_1, train_masks_1, train_labels)\n",
        "train_sampler = RandomSampler(train_data)\n",
        "train_dataloader = DataLoader(train_data, sampler=train_sampler, batch_size=batch_size)\n",
        "\n",
        "# Create the DataLoader for our validation set.\n",
        "valid_data = TensorDataset(valid_inputs_0, valid_masks_0, valid_inputs_1, valid_masks_1, valid_labels)\n",
        "valid_sampler = SequentialSampler(valid_data)\n",
        "valid_dataloader = DataLoader(valid_data, sampler=valid_sampler, batch_size=batch_size)\n",
        "\n",
        "# Create the DataLoader for our test set.\n",
        "test_data = TensorDataset(test_inputs_0, test_masks_0, test_inputs_1, test_masks_1, test_labels)\n",
        "test_sampler = SequentialSampler(test_data)\n",
        "test_dataloader = DataLoader(test_data, sampler=test_sampler, batch_size=batch_size)"
      ],
      "id": "zNzmxpgQ9bgz",
      "execution_count": null,
      "outputs": []
    },
    {
      "cell_type": "code",
      "metadata": {
        "id": "zvnAOHH19f0r"
      },
      "source": [
        "model = BERT_QA(pretrained_model=BASE_BERT)"
      ],
      "id": "zvnAOHH19f0r",
      "execution_count": null,
      "outputs": []
    },
    {
      "cell_type": "code",
      "metadata": {
        "id": "eWwJ7QVs9y2d"
      },
      "source": [
        "params = list(model.named_parameters())\n",
        "\n",
        "print('The BERT model has {:} different named parameters.\\n'.format(len(params)))\n",
        "\n",
        "print('==== Embedding Layer ====\\n')\n",
        "\n",
        "for p in params[0:5]:\n",
        "    print(\"{:<55} {:>12}\".format(p[0], str(tuple(p[1].size()))))\n",
        "\n",
        "print('\\n==== First Transformer ====\\n')\n",
        "\n",
        "for p in params[5:21]:\n",
        "    print(\"{:<55} {:>12}\".format(p[0], str(tuple(p[1].size()))))\n",
        "\n",
        "print('\\n==== Output Layer ====\\n')\n",
        "\n",
        "for p in params[-4:]:\n",
        "    print(\"{:<55} {:>12}\".format(p[0], str(tuple(p[1].size()))))"
      ],
      "id": "eWwJ7QVs9y2d",
      "execution_count": null,
      "outputs": []
    },
    {
      "cell_type": "code",
      "metadata": {
        "id": "59DJQ5hC94H1"
      },
      "source": [
        "optimizer = AdamW(model.parameters(),\n",
        "                  lr = 2e-5, # args.learning_rate - default is 5e-5, our notebook had 2e-5\n",
        "                  eps = 1e-8 # args.adam_epsilon  - default is 1e-8.\n",
        "                )\n",
        "\n",
        "epochs = 4\n",
        "total_steps = len(train_dataloader) * epochs\n",
        "scheduler = get_linear_schedule_with_warmup(optimizer, \n",
        "                                            num_warmup_steps = 0, # Default value in run_glue.py\n",
        "                                            num_training_steps = total_steps)"
      ],
      "id": "59DJQ5hC94H1",
      "execution_count": null,
      "outputs": []
    },
    {
      "cell_type": "code",
      "metadata": {
        "id": "XbRFuUZw-O2g"
      },
      "source": [
        "def flat_accuracy(preds, labels):\n",
        "    pred_flat = np.round(preds, axis=0)\n",
        "    labels_flat = labels\n",
        "    print(pred_flat, labels_flat)\n",
        "    return np.sum(pred_flat == labels_flat) / len(labels_flat)"
      ],
      "id": "XbRFuUZw-O2g",
      "execution_count": null,
      "outputs": []
    },
    {
      "cell_type": "code",
      "metadata": {
        "id": "7F52M8xY-UZf"
      },
      "source": [
        "def format_time(elapsed):\n",
        "    '''\n",
        "    Takes a time in seconds and returns a string hh:mm:ss\n",
        "    '''\n",
        "    # Round to the nearest second.\n",
        "    elapsed_rounded = int(round((elapsed)))\n",
        "    \n",
        "    # Format as hh:mm:ss\n",
        "    return str(datetime.timedelta(seconds=elapsed_rounded))"
      ],
      "id": "7F52M8xY-UZf",
      "execution_count": null,
      "outputs": []
    },
    {
      "cell_type": "code",
      "metadata": {
        "id": "UPJCDiWL-Xz3"
      },
      "source": [
        "def train_model(model, train_dataloader, valid_dataloader, epochs):\n",
        "    import random\n",
        "    seed_val = 42\n",
        "    random.seed(seed_val)\n",
        "    np.random.seed(seed_val)\n",
        "    torch.manual_seed(seed_val)\n",
        "    torch.cuda.manual_seed_all(seed_val)\n",
        "\n",
        "    # Store the average loss after each epoch so we can plot them.\n",
        "    loss_values = []\n",
        "    epochs_results = []\n",
        "\n",
        "    for epoch_i in range(0, epochs):\n",
        "        print(\"\")\n",
        "        print('======== Epoch {:} / {:} ========'.format(epoch_i + 1, epochs))\n",
        "        print('Training...')\n",
        "\n",
        "        # Measure how long the training epoch takes.\n",
        "        t0 = time.time()\n",
        "        total_loss = 0\n",
        "        model.train()\n",
        "        for step, batch in enumerate(train_dataloader):\n",
        "            if step % 40 == 0 and not step == 0:\n",
        "                elapsed = format_time(time.time() - t0)\n",
        "                print('  Batch {:>5,}  of  {:>5,}.    Elapsed: {:}.'.format(step, len(train_dataloader), elapsed))\n",
        "            b_input_ids_0, b_input_mask_0 = batch[0].long(), batch[1]\n",
        "            b_input_ids_1, b_input_mask_1 = batch[2].long(), batch[3]\n",
        "            b_labels = batch[4]\n",
        "            model.zero_grad()\n",
        "            out = model(input_ids_0=b_input_ids_0, \n",
        "                      attention_mask_0=b_input_mask_0, \n",
        "                      input_ids_1=b_input_ids_1,\n",
        "                      attention_mask_1=b_input_mask_1,\n",
        "                      labels=b_labels)\n",
        "            b_labels = b_labels.unsqueeze(dim=1)\n",
        "            loss = F.binary_cross_entropy(out, b_labels.float())\n",
        "            total_loss += loss.item()\n",
        "            loss.backward()\n",
        "            torch.nn.utils.clip_grad_norm_(model.parameters(), 1.0)\n",
        "            optimizer.step()\n",
        "            scheduler.step()\n",
        "        avg_train_loss = total_loss / len(train_dataloader)  \n",
        "        loss_values.append(avg_train_loss)\n",
        "        valid_acc, y_real, y_pred = valid_model(model, valid_dataloader)\n",
        "        p, r, f1 = evaluate(y_real, y_pred)\n",
        "        epochs_results.append([avg_train_loss, valid_acc, p, r, f1])\n",
        "\n",
        "        print(\"\")\n",
        "        print(\"  Average training loss: {0:.2f}\".format(avg_train_loss))\n",
        "        print(\"  Training epoch took: {:}\".format(format_time(time.time() - t0)))\n",
        "    print(\"\")\n",
        "    print(\"Training complete!\")\n",
        "    return epochs_results"
      ],
      "id": "UPJCDiWL-Xz3",
      "execution_count": null,
      "outputs": []
    },
    {
      "cell_type": "code",
      "metadata": {
        "id": "TGZo_zzD-ZiX"
      },
      "source": [
        "def valid_model(model, validation_dataloader):\n",
        "    print(\"Running Validation...\")    \n",
        "    y_true = []\n",
        "    y_pred = []\n",
        "    \n",
        "    t0 = time.time()\n",
        "    model.eval()\n",
        "    \n",
        "    eval_loss, eval_accuracy = 0, 0\n",
        "    nb_eval_steps, nb_eval_examples = 0, 0\n",
        "    \n",
        "    for batch in validation_dataloader:\n",
        "        b_input_ids_0, b_input_mask_0 = batch[0].long(), batch[1]\n",
        "        b_input_ids_1, b_input_mask_1 = batch[2].long(), batch[3]\n",
        "        with torch.no_grad(): \n",
        "            out = model(input_ids_0=b_input_ids_0, \n",
        "                      attention_mask_0=b_input_mask_0, \n",
        "                      input_ids_1=b_input_ids_1,\n",
        "                      attention_mask_1=b_input_mask_1,\n",
        "                      labels=b_labels)\n",
        "        logits = out\n",
        "        #logits = logits.detach().cpu().numpy()\n",
        "        #label_ids = b_labels.to('cpu').numpy()\n",
        "        tmp_eval_accuracy = flat_accuracy(np.array(logit), np.array(b_labels))\n",
        "        eval_accuracy += tmp_eval_accuracy\n",
        "        nb_eval_steps += 1\n",
        "        pred = torch.max(logits, dim=1)[1]\n",
        "        y_true.append(b_labels)\n",
        "        y_pred.append(pred)        \n",
        "    print(\"  Accuracy: {0:.2f}\".format(eval_accuracy/nb_eval_steps))\n",
        "    print(\"  Validation took: {:}\".format(format_time(time.time() - t0)))\n",
        "    return eval_accuracy/nb_eval_steps, y_true, y_pred"
      ],
      "id": "TGZo_zzD-ZiX",
      "execution_count": null,
      "outputs": []
    },
    {
      "cell_type": "code",
      "metadata": {
        "id": "lqHh8Phk-dv3"
      },
      "source": [
        "epochs_results = train_model(model, train_dataloader, valid_dataloader, epochs=4)"
      ],
      "id": "lqHh8Phk-dv3",
      "execution_count": null,
      "outputs": []
    },
    {
      "cell_type": "code",
      "metadata": {
        "id": "--FYVbPm-k95"
      },
      "source": [
        "acc, points = evaluate(model, validation, encoder_bert, evaluator_bert)\n",
        "print(f'DEV')\n",
        "print(f'accuracy: {acc}, points: {points}')\n",
        "print('----------')\n",
        "\n",
        "acc, points = evaluate(model, testing, encoder_bert, evaluator_bert)\n",
        "print(f'TEST')\n",
        "print(f'accuracy: {acc}, points: {points}')"
      ],
      "id": "--FYVbPm-k95",
      "execution_count": null,
      "outputs": []
    }
  ]
}