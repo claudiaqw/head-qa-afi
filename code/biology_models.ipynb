{
 "cells": [
  {
   "cell_type": "code",
   "execution_count": 1,
   "id": "developmental-embassy",
   "metadata": {},
   "outputs": [],
   "source": [
    "import os\n",
    "import pickle\n",
    "import pandas as pd\n",
    "import numpy as np \n",
    "import matplotlib.pyplot as plt\n",
    "import seaborn as sns\n",
    "from collections import Counter\n",
    "\n",
    "import torch\n",
    "import torch.nn as nn\n",
    "import torch.nn.functional as F\n",
    "from torch.utils.data import Dataset, DataLoader\n",
    "from torch.nn.utils.rnn import pack_padded_sequence, pad_packed_sequence\n",
    "\n",
    "from utils_data import  Vocabulary, Vectorizer, HeadQA, HeadQA_IR\n",
    "from utils_data import parse_dataset, parse_ir_dataset, random_oversamplig, random_undersampling\n",
    "from utils_data import filter_by_category, save_dataset_to_pickle, load_dataset_from_pickle\n",
    "import training\n",
    "from training import get_optimizer, train, train_ir, validate, validate_ir, evaluator, evaluator_ir, evaluate\n",
    "from training import load_embeddings_from_file, make_embedding_matrix\n",
    "from training import pad_seq, encoder_bert, encoder_bert_ir, encoder_bert_instance, encoder_bert_ir_instance\n",
    "from training import evaluator_bert, evaluator_bert_ir\n",
    "\n",
    "from supervised_models import LogisticRegression, BasicLSTM, BiLSTM_model\n",
    "from ir_models import LSTM_QA, LSTM_CNN_QA, BERT_QA\n",
    "\n",
    "%matplotlib inline\n",
    "%load_ext autoreload\n",
    "%autoreload 2"
   ]
  },
  {
   "cell_type": "code",
   "execution_count": 2,
   "id": "former-marriage",
   "metadata": {},
   "outputs": [],
   "source": [
    "CATEGORY = 'biology'"
   ]
  },
  {
   "cell_type": "code",
   "execution_count": 3,
   "id": "critical-flood",
   "metadata": {},
   "outputs": [
    {
     "name": "stderr",
     "output_type": "stream",
     "text": [
      "Reusing dataset head_qa (C:\\Users\\tec005m\\.cache\\huggingface\\datasets\\head_qa\\es\\1.1.0\\473dc5357942a3ff52963bd73cad0d167bd1bbc1ca5ca0732ee7372b480dd735)\n"
     ]
    }
   ],
   "source": [
    "from datasets import load_dataset\n",
    "\n",
    "data_es = load_dataset('head_qa', 'es' )\n",
    "training, validation, testing = data_es['train'], data_es['validation'], data_es['test']"
   ]
  },
  {
   "cell_type": "markdown",
   "id": "noble-tennessee",
   "metadata": {},
   "source": [
    "### Modelos supervisados puros"
   ]
  },
  {
   "cell_type": "code",
   "execution_count": 28,
   "id": "incident-password",
   "metadata": {},
   "outputs": [],
   "source": [
    "training_instances = load_dataset_from_pickle('../data/training.pickle')\n",
    "validation_instances = load_dataset_from_pickle('../data/validation.pickle')\n",
    "testing_instances = load_dataset_from_pickle('../data/testing.pickle')\n",
    "\n",
    "oversampled_training = load_dataset_from_pickle('../data/oversampled_training.pickle')"
   ]
  },
  {
   "cell_type": "code",
   "execution_count": 37,
   "id": "behavioral-edition",
   "metadata": {},
   "outputs": [],
   "source": [
    "training_categ = filter_by_category(oversampled_training, category=CATEGORY)\n",
    "validation_categ = filter_by_category(validation_instances, category=CATEGORY)\n",
    "testing_categ = filter_by_category(testing_instances, category=CATEGORY)\n",
    "\n",
    "dev_categ = filter_by_category(validation, category=CATEGORY)\n",
    "test_categ = filter_by_category(testing, category=CATEGORY)"
   ]
  },
  {
   "cell_type": "code",
   "execution_count": 30,
   "id": "subtle-likelihood",
   "metadata": {},
   "outputs": [],
   "source": [
    "vectorizer = Vectorizer.vectorize_training(training_categ)\n",
    "vocab = vectorizer.sentence_vocab\n",
    "label_vocab = vectorizer.label_vocab"
   ]
  },
  {
   "cell_type": "code",
   "execution_count": 31,
   "id": "sonic-porter",
   "metadata": {},
   "outputs": [],
   "source": [
    "trainset = HeadQA(instances=training_categ, vectorizer=vectorizer, right_padding=False, max_length=30)\n",
    "validset = HeadQA(instances=validation_categ, vectorizer=vectorizer, right_padding=False, max_length=30)\n",
    "testset = HeadQA(instances=testing_categ, vectorizer=vectorizer, right_padding=False, max_length=30)"
   ]
  },
  {
   "cell_type": "code",
   "execution_count": 32,
   "id": "hungarian-madagascar",
   "metadata": {},
   "outputs": [],
   "source": [
    "batch_size = 32\n",
    "train_dt = DataLoader(trainset, batch_size=batch_size,drop_last=True)\n",
    "valid_dt = DataLoader(validset, batch_size=batch_size,drop_last=True)\n",
    "test_dt = DataLoader(testset, batch_size=batch_size,drop_last=True)"
   ]
  },
  {
   "cell_type": "markdown",
   "id": "japanese-acceptance",
   "metadata": {},
   "source": [
    "#### Logistic Regressor"
   ]
  },
  {
   "cell_type": "code",
   "execution_count": 64,
   "id": "fleet-majority",
   "metadata": {},
   "outputs": [],
   "source": [
    "logistic_regressor = LogisticRegression(trainset.max_length, 1)\n",
    "optimizer = get_optimizer(logistic_regressor, lr = 0.01, wd = 1e-5)"
   ]
  },
  {
   "cell_type": "code",
   "execution_count": 65,
   "id": "enabling-triumph",
   "metadata": {},
   "outputs": [
    {
     "name": "stdout",
     "output_type": "stream",
     "text": [
      "Epoch 0 train loss  47.6459 valid loss 0.974 and accuracy 0.7344\n",
      "Epoch 1 train loss  48.1597 valid loss 1.036 and accuracy 0.7333\n",
      "Epoch 2 train loss  48.6966 valid loss 1.036 and accuracy 0.7377\n",
      "Epoch 3 train loss  48.7087 valid loss 1.036 and accuracy 0.7377\n",
      "Epoch 4 train loss  48.7415 valid loss 1.036 and accuracy 0.7377\n",
      "Epoch 5 train loss  48.7144 valid loss 1.036 and accuracy 0.7400\n",
      "Epoch 6 train loss  48.7127 valid loss 1.036 and accuracy 0.7377\n",
      "Epoch 7 train loss  48.7169 valid loss 1.036 and accuracy 0.7400\n",
      "Epoch 8 train loss  48.6782 valid loss 1.036 and accuracy 0.7377\n",
      "Epoch 9 train loss  48.8057 valid loss 1.036 and accuracy 0.7377\n",
      "Epoch 10 train loss  48.7660 valid loss 1.036 and accuracy 0.7400\n",
      "Epoch 11 train loss  48.7922 valid loss 1.036 and accuracy 0.7377\n",
      "Epoch 12 train loss  48.7376 valid loss 1.036 and accuracy 0.7411\n",
      "Epoch 13 train loss  48.6322 valid loss 1.036 and accuracy 0.7411\n",
      "Epoch 14 train loss  48.6297 valid loss 1.036 and accuracy 0.7411\n",
      "Epoch 15 train loss  48.6277 valid loss 1.036 and accuracy 0.7411\n",
      "Epoch 16 train loss  48.6254 valid loss 1.036 and accuracy 0.7411\n",
      "Epoch 17 train loss  48.6247 valid loss 1.036 and accuracy 0.7411\n",
      "Epoch 18 train loss  48.6184 valid loss 1.036 and accuracy 0.7411\n",
      "Epoch 19 train loss  48.6161 valid loss 1.036 and accuracy 0.7433\n",
      "Epoch 20 train loss  48.6173 valid loss 1.036 and accuracy 0.7433\n",
      "Epoch 21 train loss  48.6165 valid loss 1.036 and accuracy 0.7433\n",
      "Epoch 22 train loss  48.6202 valid loss 1.036 and accuracy 0.7433\n",
      "Epoch 23 train loss  48.6199 valid loss 1.036 and accuracy 0.7433\n",
      "Epoch 24 train loss  48.6195 valid loss 1.036 and accuracy 0.7433\n",
      "Epoch 25 train loss  48.6215 valid loss 1.036 and accuracy 0.7433\n",
      "Epoch 26 train loss  48.6267 valid loss 1.036 and accuracy 0.7433\n",
      "Epoch 27 train loss  48.6060 valid loss 0.943 and accuracy 0.7377\n",
      "Epoch 28 train loss  48.7008 valid loss 0.807 and accuracy 0.7411\n",
      "Epoch 29 train loss  48.7124 valid loss 1.036 and accuracy 0.7400\n"
     ]
    }
   ],
   "source": [
    "training_results = train(logistic_regressor, optimizer, train_dt, valid_dt, validate, epochs=30)"
   ]
  },
  {
   "cell_type": "code",
   "execution_count": 66,
   "id": "referenced-phoenix",
   "metadata": {},
   "outputs": [
    {
     "name": "stdout",
     "output_type": "stream",
     "text": [
      "DEV Dominio: biology\n",
      "accuracy: tensor([0.3009]), points: 46\n",
      "----------\n",
      "TEST Dominio: biology\n",
      "accuracy: tensor([0.2357]), points: -26\n"
     ]
    }
   ],
   "source": [
    "acc, points = evaluate(logistic_regressor, dev_categ, trainset.encode, evaluator)\n",
    "print(f'DEV Dominio: {CATEGORY}')\n",
    "print(f'accuracy: {acc}, points: {points}')\n",
    "print('----------')\n",
    "acc, points = evaluate(logistic_regressor, test_categ, trainset.encode, evaluator)\n",
    "print(f'TEST Dominio: {CATEGORY}')\n",
    "print(f'accuracy: {acc}, points: {points}')"
   ]
  },
  {
   "cell_type": "code",
   "execution_count": 67,
   "id": "spoken-samba",
   "metadata": {},
   "outputs": [],
   "source": [
    "model_path = os.getcwd() + f'/trained_models/logistic_regressor_{CATEGORY}'\n",
    "torch.save(logistic_regressor.state_dict(), model_path)"
   ]
  },
  {
   "cell_type": "markdown",
   "id": "recovered-muscle",
   "metadata": {},
   "source": [
    "#### LSTM"
   ]
  },
  {
   "cell_type": "code",
   "execution_count": 69,
   "id": "rolled-techno",
   "metadata": {},
   "outputs": [],
   "source": [
    "lstm = BasicLSTM(len(vocab), 64, trainset.max_length, 1, embedding_dim=100)\n",
    "optimizer = get_optimizer(lstm, lr = 0.001, wd = 1e-5)"
   ]
  },
  {
   "cell_type": "code",
   "execution_count": 70,
   "id": "laughing-ratio",
   "metadata": {},
   "outputs": [
    {
     "name": "stdout",
     "output_type": "stream",
     "text": [
      "Epoch 0 train loss  1.7352 valid loss 0.033 and accuracy 0.7500\n",
      "Epoch 1 train loss  1.7340 valid loss 0.033 and accuracy 0.7500\n",
      "Epoch 2 train loss  1.7332 valid loss 0.033 and accuracy 0.7500\n",
      "Epoch 3 train loss  1.7330 valid loss 0.033 and accuracy 0.7500\n",
      "Epoch 4 train loss  1.7317 valid loss 0.033 and accuracy 0.7500\n",
      "Epoch 5 train loss  1.7314 valid loss 0.033 and accuracy 0.7500\n",
      "Epoch 6 train loss  1.7299 valid loss 0.033 and accuracy 0.7500\n",
      "Epoch 7 train loss  1.7284 valid loss 0.033 and accuracy 0.7500\n",
      "Epoch 8 train loss  1.7259 valid loss 0.033 and accuracy 0.7500\n",
      "Epoch 9 train loss  1.7222 valid loss 0.033 and accuracy 0.7500\n",
      "Epoch 10 train loss  1.7179 valid loss 0.033 and accuracy 0.7500\n",
      "Epoch 11 train loss  1.7118 valid loss 0.033 and accuracy 0.7500\n",
      "Epoch 12 train loss  1.6974 valid loss 0.033 and accuracy 0.7500\n",
      "Epoch 13 train loss  1.6848 valid loss 0.033 and accuracy 0.7500\n",
      "Epoch 14 train loss  1.6711 valid loss 0.033 and accuracy 0.7500\n",
      "Epoch 15 train loss  1.6545 valid loss 0.034 and accuracy 0.7500\n",
      "Epoch 16 train loss  1.6404 valid loss 0.034 and accuracy 0.7500\n",
      "Epoch 17 train loss  1.6263 valid loss 0.035 and accuracy 0.7500\n",
      "Epoch 18 train loss  1.6134 valid loss 0.034 and accuracy 0.7500\n",
      "Epoch 19 train loss  1.6050 valid loss 0.034 and accuracy 0.7500\n",
      "Epoch 20 train loss  1.5948 valid loss 0.036 and accuracy 0.7500\n",
      "Epoch 21 train loss  1.5852 valid loss 0.036 and accuracy 0.7500\n",
      "Epoch 22 train loss  1.5798 valid loss 0.037 and accuracy 0.7500\n",
      "Epoch 23 train loss  1.5808 valid loss 0.036 and accuracy 0.7500\n",
      "Epoch 24 train loss  1.5756 valid loss 0.038 and accuracy 0.7500\n",
      "Epoch 25 train loss  1.5696 valid loss 0.037 and accuracy 0.7500\n",
      "Epoch 26 train loss  1.5694 valid loss 0.036 and accuracy 0.7500\n",
      "Epoch 27 train loss  1.5670 valid loss 0.038 and accuracy 0.7500\n",
      "Epoch 28 train loss  1.5636 valid loss 0.038 and accuracy 0.7500\n",
      "Epoch 29 train loss  1.5619 valid loss 0.040 and accuracy 0.7500\n",
      "Epoch 30 train loss  1.5595 valid loss 0.042 and accuracy 0.7500\n",
      "Epoch 31 train loss  1.5569 valid loss 0.042 and accuracy 0.7500\n",
      "Epoch 32 train loss  1.5547 valid loss 0.039 and accuracy 0.7500\n",
      "Epoch 33 train loss  1.5543 valid loss 0.040 and accuracy 0.7500\n",
      "Epoch 34 train loss  1.5509 valid loss 0.039 and accuracy 0.7500\n",
      "Epoch 35 train loss  1.5522 valid loss 0.040 and accuracy 0.7500\n",
      "Epoch 36 train loss  1.5525 valid loss 0.040 and accuracy 0.7500\n",
      "Epoch 37 train loss  1.5502 valid loss 0.040 and accuracy 0.7500\n",
      "Epoch 38 train loss  1.5489 valid loss 0.041 and accuracy 0.7500\n",
      "Epoch 39 train loss  1.5504 valid loss 0.041 and accuracy 0.7500\n",
      "Epoch 40 train loss  1.5461 valid loss 0.042 and accuracy 0.7500\n",
      "Epoch 41 train loss  1.5454 valid loss 0.044 and accuracy 0.7500\n",
      "Epoch 42 train loss  1.5426 valid loss 0.046 and accuracy 0.7500\n",
      "Epoch 43 train loss  1.5435 valid loss 0.048 and accuracy 0.7500\n",
      "Epoch 44 train loss  1.5451 valid loss 0.040 and accuracy 0.7500\n",
      "Epoch 45 train loss  1.5433 valid loss 0.046 and accuracy 0.7500\n",
      "Epoch 46 train loss  1.5434 valid loss 0.040 and accuracy 0.7500\n",
      "Epoch 47 train loss  1.5431 valid loss 0.042 and accuracy 0.7500\n",
      "Epoch 48 train loss  1.5409 valid loss 0.050 and accuracy 0.7500\n",
      "Epoch 49 train loss  1.5394 valid loss 0.045 and accuracy 0.7500\n"
     ]
    }
   ],
   "source": [
    "training_results = train(lstm, optimizer, train_dt, valid_dt, validate, epochs=50)"
   ]
  },
  {
   "cell_type": "code",
   "execution_count": 71,
   "id": "neural-garbage",
   "metadata": {},
   "outputs": [
    {
     "name": "stdout",
     "output_type": "stream",
     "text": [
      "DEV Dominio: biology\n",
      "accuracy: tensor([0.3053]), points: 50\n",
      "----------\n",
      "TEST Dominio: biology\n",
      "accuracy: tensor([0.3150]), points: 118\n"
     ]
    }
   ],
   "source": [
    "acc, points = evaluate(lstm, dev_categ, trainset.encode, evaluator)\n",
    "print(f'DEV Dominio: {CATEGORY}')\n",
    "print(f'accuracy: {acc}, points: {points}')\n",
    "print('----------')\n",
    "acc, points = evaluate(lstm, test_categ, trainset.encode, evaluator)\n",
    "print(f'TEST Dominio: {CATEGORY}')\n",
    "print(f'accuracy: {acc}, points: {points}')"
   ]
  },
  {
   "cell_type": "code",
   "execution_count": 73,
   "id": "animated-ballot",
   "metadata": {},
   "outputs": [],
   "source": [
    "model_path = os.getcwd() + f'/trained_models/basic_lstm_{CATEGORY}'\n",
    "torch.save(lstm.state_dict(), model_path)"
   ]
  },
  {
   "cell_type": "markdown",
   "id": "junior-northwest",
   "metadata": {},
   "source": [
    "#### BiLSTM"
   ]
  },
  {
   "cell_type": "code",
   "execution_count": 74,
   "id": "burning-relief",
   "metadata": {},
   "outputs": [],
   "source": [
    "word_to_idx = load_dataset_from_pickle('trained_models/biomedical_embeddings/word_to_index.pickle')\n",
    "embeddings = load_dataset_from_pickle('trained_models/biomedical_embeddings/wordvectors.pickle')\n",
    "embedding_file = \"trained_models/biomedical_embeddings/Scielo_wiki_FastText300.vec\"\n",
    "words = vocab.vocab2index.keys()\n",
    "embedding_matrix = make_embedding_matrix(embedding_file, list(words), word_to_idx, embeddings)"
   ]
  },
  {
   "cell_type": "code",
   "execution_count": 78,
   "id": "miniature-mediterranean",
   "metadata": {},
   "outputs": [],
   "source": [
    "bilstm = BiLSTM_model(embedding_matrix.shape[1], embedding_matrix.shape[0], 1, \n",
    "                     pretrained_embeddings=embedding_matrix, max_length=trainset.max_length)\n",
    "optimizer = get_optimizer(bilstm, lr = 0.01, wd = 1e-5)"
   ]
  },
  {
   "cell_type": "code",
   "execution_count": 79,
   "id": "described-township",
   "metadata": {},
   "outputs": [
    {
     "name": "stdout",
     "output_type": "stream",
     "text": [
      "Epoch 0 train loss  1.7386 valid loss 0.033 and accuracy 0.7500\n",
      "Epoch 1 train loss  1.7355 valid loss 0.033 and accuracy 0.7500\n",
      "Epoch 2 train loss  1.7338 valid loss 0.033 and accuracy 0.7500\n",
      "Epoch 3 train loss  1.7336 valid loss 0.033 and accuracy 0.7500\n",
      "Epoch 4 train loss  1.7343 valid loss 0.033 and accuracy 0.7500\n",
      "Epoch 5 train loss  1.7322 valid loss 0.033 and accuracy 0.7500\n",
      "Epoch 6 train loss  1.7339 valid loss 0.033 and accuracy 0.7500\n",
      "Epoch 7 train loss  1.7333 valid loss 0.033 and accuracy 0.7500\n",
      "Epoch 8 train loss  1.7330 valid loss 0.033 and accuracy 0.7500\n",
      "Epoch 9 train loss  1.7315 valid loss 0.033 and accuracy 0.7500\n",
      "Epoch 10 train loss  1.7312 valid loss 0.033 and accuracy 0.7500\n",
      "Epoch 11 train loss  1.7296 valid loss 0.033 and accuracy 0.7500\n",
      "Epoch 12 train loss  1.7298 valid loss 0.033 and accuracy 0.7500\n",
      "Epoch 13 train loss  1.7289 valid loss 0.033 and accuracy 0.7500\n",
      "Epoch 14 train loss  1.7287 valid loss 0.033 and accuracy 0.7500\n",
      "Epoch 15 train loss  1.7262 valid loss 0.033 and accuracy 0.7500\n",
      "Epoch 16 train loss  1.7284 valid loss 0.033 and accuracy 0.7500\n",
      "Epoch 17 train loss  1.7249 valid loss 0.033 and accuracy 0.7500\n",
      "Epoch 18 train loss  1.7263 valid loss 0.033 and accuracy 0.7500\n",
      "Epoch 19 train loss  1.7208 valid loss 0.033 and accuracy 0.7500\n",
      "Epoch 20 train loss  1.7237 valid loss 0.033 and accuracy 0.7500\n",
      "Epoch 21 train loss  1.7194 valid loss 0.034 and accuracy 0.7500\n",
      "Epoch 22 train loss  1.7128 valid loss 0.033 and accuracy 0.7500\n",
      "Epoch 23 train loss  1.7109 valid loss 0.033 and accuracy 0.7500\n",
      "Epoch 24 train loss  1.7145 valid loss 0.033 and accuracy 0.7500\n",
      "Epoch 25 train loss  1.7126 valid loss 0.033 and accuracy 0.7500\n",
      "Epoch 26 train loss  1.7161 valid loss 0.033 and accuracy 0.7500\n",
      "Epoch 27 train loss  1.7101 valid loss 0.033 and accuracy 0.7500\n",
      "Epoch 28 train loss  1.7132 valid loss 0.033 and accuracy 0.7500\n",
      "Epoch 29 train loss  1.7143 valid loss 0.034 and accuracy 0.7500\n",
      "Epoch 30 train loss  1.7061 valid loss 0.034 and accuracy 0.7500\n",
      "Epoch 31 train loss  1.7043 valid loss 0.035 and accuracy 0.7500\n",
      "Epoch 32 train loss  1.6990 valid loss 0.036 and accuracy 0.7500\n",
      "Epoch 33 train loss  1.6996 valid loss 0.036 and accuracy 0.7500\n",
      "Epoch 34 train loss  1.6974 valid loss 0.036 and accuracy 0.7500\n",
      "Epoch 35 train loss  1.6957 valid loss 0.035 and accuracy 0.7500\n",
      "Epoch 36 train loss  1.6932 valid loss 0.034 and accuracy 0.7500\n",
      "Epoch 37 train loss  1.6917 valid loss 0.033 and accuracy 0.7500\n",
      "Epoch 38 train loss  1.6965 valid loss 0.036 and accuracy 0.7500\n",
      "Epoch 39 train loss  1.6868 valid loss 0.036 and accuracy 0.7500\n",
      "Epoch 40 train loss  1.6866 valid loss 0.037 and accuracy 0.7500\n",
      "Epoch 41 train loss  1.6838 valid loss 0.037 and accuracy 0.7500\n",
      "Epoch 42 train loss  1.6840 valid loss 0.039 and accuracy 0.7500\n",
      "Epoch 43 train loss  1.6753 valid loss 0.038 and accuracy 0.7500\n",
      "Epoch 44 train loss  1.6729 valid loss 0.036 and accuracy 0.7500\n",
      "Epoch 45 train loss  1.6690 valid loss 0.035 and accuracy 0.7500\n",
      "Epoch 46 train loss  1.6691 valid loss 0.035 and accuracy 0.7500\n",
      "Epoch 47 train loss  1.6749 valid loss 0.039 and accuracy 0.7500\n",
      "Epoch 48 train loss  1.6638 valid loss 0.039 and accuracy 0.7500\n",
      "Epoch 49 train loss  1.6680 valid loss 0.039 and accuracy 0.7500\n",
      "Epoch 50 train loss  1.6637 valid loss 0.039 and accuracy 0.7500\n",
      "Epoch 51 train loss  1.6536 valid loss 0.037 and accuracy 0.7500\n",
      "Epoch 52 train loss  1.6590 valid loss 0.038 and accuracy 0.7500\n",
      "Epoch 53 train loss  1.6638 valid loss 0.035 and accuracy 0.7500\n",
      "Epoch 54 train loss  1.6600 valid loss 0.038 and accuracy 0.7500\n",
      "Epoch 55 train loss  1.6608 valid loss 0.039 and accuracy 0.7500\n",
      "Epoch 56 train loss  1.6510 valid loss 0.036 and accuracy 0.7500\n",
      "Epoch 57 train loss  1.6571 valid loss 0.037 and accuracy 0.7500\n",
      "Epoch 58 train loss  1.6571 valid loss 0.036 and accuracy 0.7500\n",
      "Epoch 59 train loss  1.6511 valid loss 0.038 and accuracy 0.7500\n",
      "Epoch 60 train loss  1.6504 valid loss 0.035 and accuracy 0.7500\n",
      "Epoch 61 train loss  1.6595 valid loss 0.037 and accuracy 0.7500\n",
      "Epoch 62 train loss  1.6493 valid loss 0.036 and accuracy 0.7500\n",
      "Epoch 63 train loss  1.6473 valid loss 0.040 and accuracy 0.7500\n",
      "Epoch 64 train loss  1.6489 valid loss 0.040 and accuracy 0.7500\n",
      "Epoch 65 train loss  1.6485 valid loss 0.036 and accuracy 0.7500\n",
      "Epoch 66 train loss  1.6435 valid loss 0.037 and accuracy 0.7500\n",
      "Epoch 67 train loss  1.6503 valid loss 0.037 and accuracy 0.7500\n",
      "Epoch 68 train loss  1.6503 valid loss 0.036 and accuracy 0.7500\n",
      "Epoch 69 train loss  1.6359 valid loss 0.039 and accuracy 0.7500\n",
      "Epoch 70 train loss  1.6450 valid loss 0.041 and accuracy 0.7500\n",
      "Epoch 71 train loss  1.6369 valid loss 0.039 and accuracy 0.7500\n",
      "Epoch 72 train loss  1.6340 valid loss 0.041 and accuracy 0.7500\n",
      "Epoch 73 train loss  1.6312 valid loss 0.040 and accuracy 0.7500\n",
      "Epoch 74 train loss  1.6359 valid loss 0.040 and accuracy 0.7500\n",
      "Epoch 75 train loss  1.6451 valid loss 0.039 and accuracy 0.7500\n",
      "Epoch 76 train loss  1.6346 valid loss 0.035 and accuracy 0.7500\n",
      "Epoch 77 train loss  1.6366 valid loss 0.034 and accuracy 0.7500\n",
      "Epoch 78 train loss  1.6276 valid loss 0.033 and accuracy 0.7500\n",
      "Epoch 79 train loss  1.6374 valid loss 0.034 and accuracy 0.7500\n",
      "Epoch 80 train loss  1.6364 valid loss 0.036 and accuracy 0.7500\n",
      "Epoch 81 train loss  1.6365 valid loss 0.036 and accuracy 0.7500\n",
      "Epoch 82 train loss  1.6399 valid loss 0.036 and accuracy 0.7500\n",
      "Epoch 83 train loss  1.6400 valid loss 0.038 and accuracy 0.7500\n",
      "Epoch 84 train loss  1.6278 valid loss 0.038 and accuracy 0.7500\n",
      "Epoch 85 train loss  1.6287 valid loss 0.036 and accuracy 0.7500\n",
      "Epoch 86 train loss  1.6327 valid loss 0.035 and accuracy 0.7500\n",
      "Epoch 87 train loss  1.6321 valid loss 0.036 and accuracy 0.7500\n",
      "Epoch 88 train loss  1.6219 valid loss 0.034 and accuracy 0.7500\n",
      "Epoch 89 train loss  1.6254 valid loss 0.036 and accuracy 0.7500\n",
      "Epoch 90 train loss  1.6271 valid loss 0.037 and accuracy 0.7500\n",
      "Epoch 91 train loss  1.6220 valid loss 0.039 and accuracy 0.7500\n",
      "Epoch 92 train loss  1.6150 valid loss 0.035 and accuracy 0.7500\n",
      "Epoch 93 train loss  1.6186 valid loss 0.036 and accuracy 0.7500\n",
      "Epoch 94 train loss  1.6201 valid loss 0.036 and accuracy 0.7500\n",
      "Epoch 95 train loss  1.6153 valid loss 0.035 and accuracy 0.7500\n",
      "Epoch 96 train loss  1.6259 valid loss 0.033 and accuracy 0.7500\n",
      "Epoch 97 train loss  1.6225 valid loss 0.033 and accuracy 0.7500\n",
      "Epoch 98 train loss  1.6211 valid loss 0.035 and accuracy 0.7500\n",
      "Epoch 99 train loss  1.6209 valid loss 0.039 and accuracy 0.7500\n"
     ]
    }
   ],
   "source": [
    "training_results = train(bilstm, optimizer, train_dt, valid_dt, validate, epochs=100)"
   ]
  },
  {
   "cell_type": "code",
   "execution_count": 80,
   "id": "operating-batman",
   "metadata": {},
   "outputs": [
    {
     "name": "stdout",
     "output_type": "stream",
     "text": [
      "DEV Dominio: biology\n",
      "accuracy: tensor([0.3009]), points: 46\n",
      "----------\n",
      "TEST Dominio: biology\n",
      "accuracy: tensor([0.2445]), points: -10\n"
     ]
    }
   ],
   "source": [
    "acc, points = evaluate(bilstm, dev_categ, trainset.encode, evaluator)\n",
    "print(f'DEV Dominio: {CATEGORY}')\n",
    "print(f'accuracy: {acc}, points: {points}')\n",
    "print('----------')\n",
    "acc, points = evaluate(bilstm, test_categ, trainset.encode, evaluator)\n",
    "print(f'TEST Dominio: {CATEGORY}')\n",
    "print(f'accuracy: {acc}, points: {points}')"
   ]
  },
  {
   "cell_type": "code",
   "execution_count": 81,
   "id": "instrumental-bruce",
   "metadata": {},
   "outputs": [],
   "source": [
    "model_path = os.getcwd() + f'/trained_models/bilstm_{CATEGORY}'\n",
    "torch.save(bilstm.state_dict(), model_path)"
   ]
  },
  {
   "cell_type": "markdown",
   "id": "patent-oliver",
   "metadata": {},
   "source": [
    "### Modelos supervisados IR"
   ]
  },
  {
   "cell_type": "code",
   "execution_count": 4,
   "id": "swiss-operator",
   "metadata": {},
   "outputs": [],
   "source": [
    "training_instances = load_dataset_from_pickle('../data/training_ir.pickle')\n",
    "validation_instances = load_dataset_from_pickle('../data/validation_ir.pickle')\n",
    "testing_instances = load_dataset_from_pickle('../data/testing_ir.pickle')\n",
    "oversampled_training = load_dataset_from_pickle('../data/oversampled_training_ir.pickle')"
   ]
  },
  {
   "cell_type": "code",
   "execution_count": 5,
   "id": "local-consortium",
   "metadata": {},
   "outputs": [],
   "source": [
    "training_categ = filter_by_category(oversampled_training, category=CATEGORY)\n",
    "validation_categ = filter_by_category(validation_instances, category=CATEGORY)\n",
    "testing_categ = filter_by_category(testing_instances, category=CATEGORY)\n",
    "\n",
    "dev_categ = filter_by_category(validation, category=CATEGORY)\n",
    "test_categ = filter_by_category(testing, category=CATEGORY)"
   ]
  },
  {
   "cell_type": "code",
   "execution_count": 6,
   "id": "excessive-yukon",
   "metadata": {},
   "outputs": [],
   "source": [
    "vectorizer = Vectorizer.vectorize_ir_dataset(oversampled_training)\n",
    "vocab = vectorizer.sentence_vocab\n",
    "label_vocab = vectorizer.label_vocab"
   ]
  },
  {
   "cell_type": "code",
   "execution_count": 7,
   "id": "geological-consideration",
   "metadata": {},
   "outputs": [],
   "source": [
    "trainset = HeadQA_IR(instances=training_instances, vectorizer=vectorizer, right_padding=False, max_length=15)\n",
    "validset = HeadQA_IR(instances=validation_instances, vectorizer=vectorizer, right_padding=False, max_length=15)\n",
    "testset = HeadQA_IR(instances=testing_instances, vectorizer=vectorizer, right_padding=False, max_length=15)"
   ]
  },
  {
   "cell_type": "code",
   "execution_count": 8,
   "id": "numerous-tenant",
   "metadata": {},
   "outputs": [],
   "source": [
    "batch_size = 32\n",
    "train_dt = DataLoader(trainset, batch_size=batch_size,drop_last=True)\n",
    "valid_dt = DataLoader(validset, batch_size=batch_size,drop_last=True)\n",
    "test_dt = DataLoader(testset, batch_size=batch_size,drop_last=True)"
   ]
  },
  {
   "cell_type": "code",
   "execution_count": 9,
   "id": "hawaiian-kuwait",
   "metadata": {},
   "outputs": [],
   "source": [
    "word_to_idx = load_dataset_from_pickle('trained_models/biomedical_embeddings/word_to_index_ir.pickle')\n",
    "embeddings = load_dataset_from_pickle('trained_models/biomedical_embeddings/wordvectors_ir.pickle')\n",
    "embedding_file = \"trained_models/biomedical_embeddings/Scielo_wiki_FastText300.vec\"\n",
    "words = vocab.vocab2index.keys()\n",
    "embedding_matrix = make_embedding_matrix(embedding_file, list(words), word_to_idx, embeddings)"
   ]
  },
  {
   "cell_type": "markdown",
   "id": "confirmed-christianity",
   "metadata": {},
   "source": [
    "#### LSTM-QA"
   ]
  },
  {
   "cell_type": "code",
   "execution_count": 10,
   "id": "medieval-orientation",
   "metadata": {},
   "outputs": [
    {
     "name": "stdout",
     "output_type": "stream",
     "text": [
      "Loading pretrained embeddings...\n"
     ]
    },
    {
     "name": "stderr",
     "output_type": "stream",
     "text": [
      "C:\\Users\\tec005m\\Anaconda3\\envs\\afi\\lib\\site-packages\\torch\\nn\\modules\\rnn.py:60: UserWarning: dropout option adds dropout after all but last recurrent layer, so non-zero dropout expects num_layers greater than 1, but got dropout=0.5 and num_layers=1\n",
      "  warnings.warn(\"dropout option adds dropout after all but last \"\n"
     ]
    }
   ],
   "source": [
    "lstm_qa = LSTM_QA(vocab_size=len(vocab), hidden_size=64, x_size=trainset.max_length, n_classes=1, embedding_size=300,\n",
    "               pretrained_embeddings=embedding_matrix)\n",
    "optimizer = get_optimizer(lstm_qa, lr = 0.001, wd = 1e-5)"
   ]
  },
  {
   "cell_type": "code",
   "execution_count": 11,
   "id": "fourth-cruise",
   "metadata": {},
   "outputs": [
    {
     "name": "stdout",
     "output_type": "stream",
     "text": [
      "Epoch 0 train loss  0.7191 valid loss 0.005 and accuracy 0.7500\n",
      "Epoch 1 train loss  0.7126 valid loss 0.005 and accuracy 0.7500\n",
      "Epoch 2 train loss  0.6871 valid loss 0.005 and accuracy 0.7500\n",
      "Epoch 3 train loss  0.6478 valid loss 0.006 and accuracy 0.7500\n",
      "Epoch 4 train loss  0.6068 valid loss 0.006 and accuracy 0.7500\n",
      "Epoch 5 train loss  0.5797 valid loss 0.006 and accuracy 0.7494\n",
      "Epoch 6 train loss  0.5524 valid loss 0.006 and accuracy 0.7502\n",
      "Epoch 7 train loss  0.5298 valid loss 0.006 and accuracy 0.7504\n",
      "Epoch 8 train loss  0.5217 valid loss 0.006 and accuracy 0.7498\n",
      "Epoch 9 train loss  0.5087 valid loss 0.006 and accuracy 0.7496\n",
      "Epoch 10 train loss  0.4903 valid loss 0.005 and accuracy 0.7496\n",
      "Epoch 11 train loss  0.4891 valid loss 0.006 and accuracy 0.7500\n",
      "Epoch 12 train loss  0.4853 valid loss 0.005 and accuracy 0.7493\n",
      "Epoch 13 train loss  0.4785 valid loss 0.006 and accuracy 0.7502\n",
      "Epoch 14 train loss  0.4729 valid loss 0.006 and accuracy 0.7498\n",
      "Epoch 15 train loss  0.4658 valid loss 0.007 and accuracy 0.7498\n",
      "Epoch 16 train loss  0.4691 valid loss 0.006 and accuracy 0.7494\n",
      "Epoch 17 train loss  0.4620 valid loss 0.006 and accuracy 0.7489\n",
      "Epoch 18 train loss  0.4560 valid loss 0.006 and accuracy 0.7491\n",
      "Epoch 19 train loss  0.4556 valid loss 0.006 and accuracy 0.7493\n",
      "Epoch 20 train loss  0.4519 valid loss 0.006 and accuracy 0.7494\n",
      "Epoch 21 train loss  0.4515 valid loss 0.006 and accuracy 0.7489\n",
      "Epoch 22 train loss  0.4496 valid loss 0.006 and accuracy 0.7493\n",
      "Epoch 23 train loss  0.4440 valid loss 0.006 and accuracy 0.7483\n",
      "Epoch 24 train loss  0.4460 valid loss 0.006 and accuracy 0.7498\n",
      "Epoch 25 train loss  0.4420 valid loss 0.006 and accuracy 0.7491\n",
      "Epoch 26 train loss  0.4445 valid loss 0.006 and accuracy 0.7489\n",
      "Epoch 27 train loss  0.4393 valid loss 0.006 and accuracy 0.7482\n",
      "Epoch 28 train loss  0.4421 valid loss 0.007 and accuracy 0.7489\n",
      "Epoch 29 train loss  0.4397 valid loss 0.006 and accuracy 0.7506\n",
      "Epoch 30 train loss  0.4355 valid loss 0.006 and accuracy 0.7493\n",
      "Epoch 31 train loss  0.4383 valid loss 0.006 and accuracy 0.7493\n",
      "Epoch 32 train loss  0.4335 valid loss 0.006 and accuracy 0.7489\n",
      "Epoch 33 train loss  0.4327 valid loss 0.006 and accuracy 0.7489\n",
      "Epoch 34 train loss  0.4338 valid loss 0.006 and accuracy 0.7496\n",
      "Epoch 35 train loss  0.4313 valid loss 0.007 and accuracy 0.7487\n",
      "Epoch 36 train loss  0.4291 valid loss 0.006 and accuracy 0.7494\n",
      "Epoch 37 train loss  0.4287 valid loss 0.006 and accuracy 0.7498\n",
      "Epoch 38 train loss  0.4296 valid loss 0.006 and accuracy 0.7493\n",
      "Epoch 39 train loss  0.4288 valid loss 0.006 and accuracy 0.7493\n",
      "Epoch 40 train loss  0.4275 valid loss 0.007 and accuracy 0.7500\n",
      "Epoch 41 train loss  0.4263 valid loss 0.006 and accuracy 0.7502\n",
      "Epoch 42 train loss  0.4264 valid loss 0.006 and accuracy 0.7493\n",
      "Epoch 43 train loss  0.4266 valid loss 0.006 and accuracy 0.7491\n",
      "Epoch 44 train loss  0.4257 valid loss 0.006 and accuracy 0.7491\n",
      "Epoch 45 train loss  0.4233 valid loss 0.006 and accuracy 0.7498\n",
      "Epoch 46 train loss  0.4235 valid loss 0.006 and accuracy 0.7494\n",
      "Epoch 47 train loss  0.4247 valid loss 0.007 and accuracy 0.7491\n",
      "Epoch 48 train loss  0.4213 valid loss 0.007 and accuracy 0.7489\n",
      "Epoch 49 train loss  0.4224 valid loss 0.006 and accuracy 0.7489\n",
      "Epoch 50 train loss  0.4226 valid loss 0.006 and accuracy 0.7491\n",
      "Epoch 51 train loss  0.4222 valid loss 0.006 and accuracy 0.7493\n",
      "Epoch 52 train loss  0.4215 valid loss 0.006 and accuracy 0.7498\n",
      "Epoch 53 train loss  0.4213 valid loss 0.006 and accuracy 0.7489\n",
      "Epoch 54 train loss  0.4209 valid loss 0.006 and accuracy 0.7504\n",
      "Epoch 55 train loss  0.4202 valid loss 0.006 and accuracy 0.7494\n",
      "Epoch 56 train loss  0.4184 valid loss 0.007 and accuracy 0.7498\n",
      "Epoch 57 train loss  0.4183 valid loss 0.006 and accuracy 0.7494\n",
      "Epoch 58 train loss  0.4187 valid loss 0.006 and accuracy 0.7494\n",
      "Epoch 59 train loss  0.4174 valid loss 0.006 and accuracy 0.7491\n",
      "Epoch 60 train loss  0.4168 valid loss 0.006 and accuracy 0.7494\n",
      "Epoch 61 train loss  0.4180 valid loss 0.006 and accuracy 0.7491\n",
      "Epoch 62 train loss  0.4161 valid loss 0.006 and accuracy 0.7500\n",
      "Epoch 63 train loss  0.4171 valid loss 0.006 and accuracy 0.7489\n",
      "Epoch 64 train loss  0.4157 valid loss 0.007 and accuracy 0.7482\n",
      "Epoch 65 train loss  0.4146 valid loss 0.006 and accuracy 0.7489\n",
      "Epoch 66 train loss  0.4151 valid loss 0.006 and accuracy 0.7493\n",
      "Epoch 67 train loss  0.4158 valid loss 0.006 and accuracy 0.7485\n",
      "Epoch 68 train loss  0.4128 valid loss 0.006 and accuracy 0.7493\n",
      "Epoch 69 train loss  0.4152 valid loss 0.006 and accuracy 0.7491\n",
      "Epoch 70 train loss  0.4131 valid loss 0.006 and accuracy 0.7491\n",
      "Epoch 71 train loss  0.4139 valid loss 0.006 and accuracy 0.7493\n",
      "Epoch 72 train loss  0.4139 valid loss 0.007 and accuracy 0.7487\n",
      "Epoch 73 train loss  0.4156 valid loss 0.006 and accuracy 0.7493\n",
      "Epoch 74 train loss  0.4141 valid loss 0.006 and accuracy 0.7493\n",
      "Epoch 75 train loss  0.4115 valid loss 0.006 and accuracy 0.7483\n",
      "Epoch 76 train loss  0.4128 valid loss 0.007 and accuracy 0.7502\n",
      "Epoch 77 train loss  0.4123 valid loss 0.007 and accuracy 0.7491\n",
      "Epoch 78 train loss  0.4114 valid loss 0.006 and accuracy 0.7483\n",
      "Epoch 79 train loss  0.4108 valid loss 0.006 and accuracy 0.7494\n",
      "Epoch 80 train loss  0.4124 valid loss 0.006 and accuracy 0.7494\n",
      "Epoch 81 train loss  0.4122 valid loss 0.006 and accuracy 0.7491\n",
      "Epoch 82 train loss  0.4095 valid loss 0.006 and accuracy 0.7491\n",
      "Epoch 83 train loss  0.4105 valid loss 0.006 and accuracy 0.7491\n",
      "Epoch 84 train loss  0.4097 valid loss 0.007 and accuracy 0.7478\n",
      "Epoch 85 train loss  0.4099 valid loss 0.007 and accuracy 0.7487\n",
      "Epoch 86 train loss  0.4096 valid loss 0.007 and accuracy 0.7483\n",
      "Epoch 87 train loss  0.4101 valid loss 0.006 and accuracy 0.7485\n",
      "Epoch 88 train loss  0.4091 valid loss 0.007 and accuracy 0.7487\n",
      "Epoch 89 train loss  0.4078 valid loss 0.007 and accuracy 0.7482\n",
      "Epoch 90 train loss  0.4101 valid loss 0.006 and accuracy 0.7489\n",
      "Epoch 91 train loss  0.4099 valid loss 0.007 and accuracy 0.7493\n",
      "Epoch 92 train loss  0.4080 valid loss 0.006 and accuracy 0.7491\n",
      "Epoch 93 train loss  0.4081 valid loss 0.007 and accuracy 0.7496\n",
      "Epoch 94 train loss  0.4088 valid loss 0.006 and accuracy 0.7494\n",
      "Epoch 95 train loss  0.4096 valid loss 0.006 and accuracy 0.7496\n",
      "Epoch 96 train loss  0.4090 valid loss 0.007 and accuracy 0.7487\n",
      "Epoch 97 train loss  0.4084 valid loss 0.007 and accuracy 0.7493\n",
      "Epoch 98 train loss  0.4077 valid loss 0.006 and accuracy 0.7483\n",
      "Epoch 99 train loss  0.4075 valid loss 0.007 and accuracy 0.7483\n"
     ]
    }
   ],
   "source": [
    "training_results = train_ir(lstm_qa, optimizer, train_dt, valid_dt, validate_ir, epochs=100)"
   ]
  },
  {
   "cell_type": "code",
   "execution_count": 13,
   "id": "dress-phenomenon",
   "metadata": {},
   "outputs": [
    {
     "name": "stdout",
     "output_type": "stream",
     "text": [
      "DEV Dominio: biology\n",
      "accuracy: tensor([0.2699]), points: 18\n",
      "----------\n",
      "TEST Dominio: biology\n",
      "accuracy: tensor([0.2819]), points: 58\n"
     ]
    }
   ],
   "source": [
    "acc, points = evaluate(lstm_qa, dev_categ, trainset.encode, evaluator_ir)\n",
    "print(f'DEV Dominio: {CATEGORY}')\n",
    "print(f'accuracy: {acc}, points: {points}')\n",
    "print('----------')\n",
    "acc, points = evaluate(lstm_qa, test_categ, trainset.encode, evaluator_ir)\n",
    "print(f'TEST Dominio: {CATEGORY}')\n",
    "print(f'accuracy: {acc}, points: {points}')"
   ]
  },
  {
   "cell_type": "code",
   "execution_count": 14,
   "id": "caroline-assistant",
   "metadata": {},
   "outputs": [],
   "source": [
    "model_path = os.getcwd() + f'/trained_models/lstm_qa_{CATEGORY}'\n",
    "torch.save(lstm_qa.state_dict(), model_path)"
   ]
  },
  {
   "cell_type": "markdown",
   "id": "meaningful-worker",
   "metadata": {},
   "source": [
    "#### LSTM-QA/CNN"
   ]
  },
  {
   "cell_type": "code",
   "execution_count": 15,
   "id": "organizational-modem",
   "metadata": {},
   "outputs": [
    {
     "name": "stdout",
     "output_type": "stream",
     "text": [
      "Loading pretrained embeddings...\n"
     ]
    }
   ],
   "source": [
    "lstm_cnn_qa = LSTM_CNN_QA(vocab_size=len(vocab), hidden_size=64, x_size=trainset.max_length, n_classes=1, embedding_size=300,\n",
    "               pretrained_embeddings=embedding_matrix)\n",
    "optimizer = get_optimizer(lstm_cnn_qa, lr = 0.001, wd = 1e-5)"
   ]
  },
  {
   "cell_type": "code",
   "execution_count": 16,
   "id": "capital-subscription",
   "metadata": {},
   "outputs": [
    {
     "name": "stdout",
     "output_type": "stream",
     "text": [
      "Epoch 0 train loss  0.7188 valid loss 0.005 and accuracy 0.7500\n",
      "Epoch 1 train loss  0.7115 valid loss 0.005 and accuracy 0.7500\n",
      "Epoch 2 train loss  0.6807 valid loss 0.005 and accuracy 0.7500\n",
      "Epoch 3 train loss  0.6336 valid loss 0.006 and accuracy 0.7498\n",
      "Epoch 4 train loss  0.5947 valid loss 0.006 and accuracy 0.7500\n",
      "Epoch 5 train loss  0.5663 valid loss 0.006 and accuracy 0.7494\n",
      "Epoch 6 train loss  0.5511 valid loss 0.007 and accuracy 0.7498\n",
      "Epoch 7 train loss  0.5284 valid loss 0.006 and accuracy 0.7496\n",
      "Epoch 8 train loss  0.5172 valid loss 0.006 and accuracy 0.7498\n",
      "Epoch 9 train loss  0.5034 valid loss 0.006 and accuracy 0.7504\n",
      "Epoch 10 train loss  0.4937 valid loss 0.006 and accuracy 0.7502\n",
      "Epoch 11 train loss  0.4882 valid loss 0.006 and accuracy 0.7494\n",
      "Epoch 12 train loss  0.4818 valid loss 0.006 and accuracy 0.7509\n",
      "Epoch 13 train loss  0.4759 valid loss 0.006 and accuracy 0.7502\n",
      "Epoch 14 train loss  0.4729 valid loss 0.006 and accuracy 0.7498\n",
      "Epoch 15 train loss  0.4672 valid loss 0.006 and accuracy 0.7500\n",
      "Epoch 16 train loss  0.4634 valid loss 0.006 and accuracy 0.7489\n",
      "Epoch 17 train loss  0.4581 valid loss 0.006 and accuracy 0.7493\n",
      "Epoch 18 train loss  0.4560 valid loss 0.006 and accuracy 0.7493\n",
      "Epoch 19 train loss  0.4573 valid loss 0.006 and accuracy 0.7491\n",
      "Epoch 20 train loss  0.4564 valid loss 0.006 and accuracy 0.7504\n",
      "Epoch 21 train loss  0.4505 valid loss 0.006 and accuracy 0.7506\n",
      "Epoch 22 train loss  0.4463 valid loss 0.006 and accuracy 0.7496\n",
      "Epoch 23 train loss  0.4455 valid loss 0.006 and accuracy 0.7504\n",
      "Epoch 24 train loss  0.4441 valid loss 0.006 and accuracy 0.7498\n",
      "Epoch 25 train loss  0.4420 valid loss 0.006 and accuracy 0.7491\n",
      "Epoch 26 train loss  0.4437 valid loss 0.006 and accuracy 0.7496\n",
      "Epoch 27 train loss  0.4404 valid loss 0.006 and accuracy 0.7496\n",
      "Epoch 28 train loss  0.4378 valid loss 0.006 and accuracy 0.7500\n",
      "Epoch 29 train loss  0.4374 valid loss 0.006 and accuracy 0.7494\n",
      "Epoch 30 train loss  0.4385 valid loss 0.006 and accuracy 0.7513\n",
      "Epoch 31 train loss  0.4355 valid loss 0.006 and accuracy 0.7504\n",
      "Epoch 32 train loss  0.4328 valid loss 0.006 and accuracy 0.7496\n",
      "Epoch 33 train loss  0.4337 valid loss 0.007 and accuracy 0.7496\n",
      "Epoch 34 train loss  0.4361 valid loss 0.006 and accuracy 0.7498\n",
      "Epoch 35 train loss  0.4324 valid loss 0.006 and accuracy 0.7494\n",
      "Epoch 36 train loss  0.4292 valid loss 0.006 and accuracy 0.7498\n",
      "Epoch 37 train loss  0.4301 valid loss 0.006 and accuracy 0.7493\n",
      "Epoch 38 train loss  0.4282 valid loss 0.006 and accuracy 0.7491\n",
      "Epoch 39 train loss  0.4287 valid loss 0.006 and accuracy 0.7496\n",
      "Epoch 40 train loss  0.4271 valid loss 0.006 and accuracy 0.7493\n",
      "Epoch 41 train loss  0.4268 valid loss 0.006 and accuracy 0.7494\n",
      "Epoch 42 train loss  0.4265 valid loss 0.006 and accuracy 0.7504\n",
      "Epoch 43 train loss  0.4256 valid loss 0.006 and accuracy 0.7491\n",
      "Epoch 44 train loss  0.4251 valid loss 0.007 and accuracy 0.7498\n",
      "Epoch 45 train loss  0.4238 valid loss 0.006 and accuracy 0.7498\n",
      "Epoch 46 train loss  0.4263 valid loss 0.006 and accuracy 0.7493\n",
      "Epoch 47 train loss  0.4236 valid loss 0.006 and accuracy 0.7498\n",
      "Epoch 48 train loss  0.4238 valid loss 0.006 and accuracy 0.7496\n",
      "Epoch 49 train loss  0.4214 valid loss 0.007 and accuracy 0.7498\n",
      "Epoch 50 train loss  0.4218 valid loss 0.006 and accuracy 0.7485\n",
      "Epoch 51 train loss  0.4209 valid loss 0.006 and accuracy 0.7504\n",
      "Epoch 52 train loss  0.4212 valid loss 0.006 and accuracy 0.7502\n",
      "Epoch 53 train loss  0.4217 valid loss 0.007 and accuracy 0.7491\n",
      "Epoch 54 train loss  0.4211 valid loss 0.007 and accuracy 0.7502\n",
      "Epoch 55 train loss  0.4211 valid loss 0.007 and accuracy 0.7496\n",
      "Epoch 56 train loss  0.4186 valid loss 0.006 and accuracy 0.7500\n",
      "Epoch 57 train loss  0.4177 valid loss 0.006 and accuracy 0.7491\n",
      "Epoch 58 train loss  0.4189 valid loss 0.006 and accuracy 0.7502\n",
      "Epoch 59 train loss  0.4181 valid loss 0.007 and accuracy 0.7507\n",
      "Epoch 60 train loss  0.4172 valid loss 0.007 and accuracy 0.7491\n",
      "Epoch 61 train loss  0.4162 valid loss 0.007 and accuracy 0.7493\n",
      "Epoch 62 train loss  0.4172 valid loss 0.006 and accuracy 0.7500\n",
      "Epoch 63 train loss  0.4164 valid loss 0.007 and accuracy 0.7496\n",
      "Epoch 64 train loss  0.4135 valid loss 0.007 and accuracy 0.7487\n",
      "Epoch 65 train loss  0.4160 valid loss 0.006 and accuracy 0.7498\n",
      "Epoch 66 train loss  0.4153 valid loss 0.006 and accuracy 0.7493\n",
      "Epoch 67 train loss  0.4147 valid loss 0.007 and accuracy 0.7506\n",
      "Epoch 68 train loss  0.4166 valid loss 0.006 and accuracy 0.7496\n",
      "Epoch 69 train loss  0.4139 valid loss 0.006 and accuracy 0.7491\n",
      "Epoch 70 train loss  0.4149 valid loss 0.007 and accuracy 0.7494\n",
      "Epoch 71 train loss  0.4138 valid loss 0.007 and accuracy 0.7496\n",
      "Epoch 72 train loss  0.4126 valid loss 0.007 and accuracy 0.7500\n",
      "Epoch 73 train loss  0.4121 valid loss 0.007 and accuracy 0.7498\n",
      "Epoch 74 train loss  0.4124 valid loss 0.007 and accuracy 0.7496\n",
      "Epoch 75 train loss  0.4117 valid loss 0.007 and accuracy 0.7502\n",
      "Epoch 76 train loss  0.4121 valid loss 0.007 and accuracy 0.7498\n",
      "Epoch 77 train loss  0.4114 valid loss 0.007 and accuracy 0.7498\n",
      "Epoch 78 train loss  0.4112 valid loss 0.007 and accuracy 0.7493\n",
      "Epoch 79 train loss  0.4105 valid loss 0.007 and accuracy 0.7496\n",
      "Epoch 80 train loss  0.4112 valid loss 0.007 and accuracy 0.7494\n",
      "Epoch 81 train loss  0.4102 valid loss 0.007 and accuracy 0.7494\n",
      "Epoch 82 train loss  0.4104 valid loss 0.007 and accuracy 0.7496\n",
      "Epoch 83 train loss  0.4102 valid loss 0.007 and accuracy 0.7483\n",
      "Epoch 84 train loss  0.4103 valid loss 0.007 and accuracy 0.7500\n",
      "Epoch 85 train loss  0.4103 valid loss 0.007 and accuracy 0.7498\n",
      "Epoch 86 train loss  0.4092 valid loss 0.007 and accuracy 0.7502\n",
      "Epoch 87 train loss  0.4087 valid loss 0.007 and accuracy 0.7500\n",
      "Epoch 88 train loss  0.4088 valid loss 0.007 and accuracy 0.7500\n",
      "Epoch 89 train loss  0.4082 valid loss 0.007 and accuracy 0.7502\n",
      "Epoch 90 train loss  0.4084 valid loss 0.007 and accuracy 0.7493\n",
      "Epoch 91 train loss  0.4098 valid loss 0.006 and accuracy 0.7491\n",
      "Epoch 92 train loss  0.4082 valid loss 0.007 and accuracy 0.7496\n",
      "Epoch 93 train loss  0.4081 valid loss 0.007 and accuracy 0.7493\n",
      "Epoch 94 train loss  0.4093 valid loss 0.007 and accuracy 0.7498\n",
      "Epoch 95 train loss  0.4078 valid loss 0.007 and accuracy 0.7494\n",
      "Epoch 96 train loss  0.4074 valid loss 0.007 and accuracy 0.7500\n",
      "Epoch 97 train loss  0.4080 valid loss 0.007 and accuracy 0.7485\n",
      "Epoch 98 train loss  0.4075 valid loss 0.007 and accuracy 0.7487\n",
      "Epoch 99 train loss  0.4079 valid loss 0.007 and accuracy 0.7496\n"
     ]
    }
   ],
   "source": [
    "training_results = train_ir(lstm_cnn_qa, optimizer, train_dt, valid_dt, validate_ir, epochs=100)"
   ]
  },
  {
   "cell_type": "code",
   "execution_count": 17,
   "id": "familiar-telephone",
   "metadata": {},
   "outputs": [
    {
     "name": "stdout",
     "output_type": "stream",
     "text": [
      "DEV Dominio: biology\n",
      "accuracy: tensor([0.3274]), points: 70\n",
      "----------\n",
      "TEST Dominio: biology\n",
      "accuracy: tensor([0.3018]), points: 94\n"
     ]
    }
   ],
   "source": [
    "acc, points = evaluate(lstm_cnn_qa, dev_categ, trainset.encode, evaluator_ir)\n",
    "print(f'DEV Dominio: {CATEGORY}')\n",
    "print(f'accuracy: {acc}, points: {points}')\n",
    "print('----------')\n",
    "acc, points = evaluate(lstm_cnn_qa, test_categ, trainset.encode, evaluator_ir)\n",
    "print(f'TEST Dominio: {CATEGORY}')\n",
    "print(f'accuracy: {acc}, points: {points}')"
   ]
  },
  {
   "cell_type": "code",
   "execution_count": 18,
   "id": "changing-ability",
   "metadata": {},
   "outputs": [],
   "source": [
    "model_path = os.getcwd() + f'/trained_models/lstm_cnn_qa_{CATEGORY}'\n",
    "torch.save(lstm_qa.state_dict(), model_path)"
   ]
  },
  {
   "cell_type": "code",
   "execution_count": null,
   "id": "agreed-royal",
   "metadata": {},
   "outputs": [],
   "source": []
  }
 ],
 "metadata": {
  "kernelspec": {
   "display_name": "Python 3",
   "language": "python",
   "name": "python3"
  },
  "language_info": {
   "codemirror_mode": {
    "name": "ipython",
    "version": 3
   },
   "file_extension": ".py",
   "mimetype": "text/x-python",
   "name": "python",
   "nbconvert_exporter": "python",
   "pygments_lexer": "ipython3",
   "version": "3.8.5"
  }
 },
 "nbformat": 4,
 "nbformat_minor": 5
}
