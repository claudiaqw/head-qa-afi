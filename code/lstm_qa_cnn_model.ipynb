{
 "cells": [
  {
   "cell_type": "code",
   "execution_count": 1,
   "id": "rural-curve",
   "metadata": {},
   "outputs": [
    {
     "name": "stderr",
     "output_type": "stream",
     "text": [
      "C:\\Users\\tec005m\\Anaconda3\\envs\\afi\\lib\\site-packages\\gensim\\similarities\\__init__.py:15: UserWarning: The gensim.similarities.levenshtein submodule is disabled, because the optional Levenshtein package <https://pypi.org/project/python-Levenshtein/> is unavailable. Install Levenhstein (e.g. `pip install python-Levenshtein`) to suppress this warning.\n",
      "  warnings.warn(msg)\n"
     ]
    }
   ],
   "source": [
    "import os\n",
    "import time\n",
    "import datetime\n",
    "import pandas as pd\n",
    "import numpy as np \n",
    "import matplotlib.pyplot as plt\n",
    "import seaborn as sns\n",
    "from collections import Counter\n",
    "\n",
    "import torch\n",
    "import torch.nn as nn\n",
    "import torch.nn.functional as F\n",
    "import torch.optim as optim\n",
    "from torch.optim import lr_scheduler\n",
    "from torch.utils.data import Dataset, DataLoader, TensorDataset, SequentialSampler, RandomSampler\n",
    "from torch.nn.utils.rnn import pack_padded_sequence, pad_packed_sequence\n",
    "\n",
    "from utils_data import Vectorizer, HeadQA, HeadQA_IR, clean_words, parse_dataset, parse_ir_dataset, random_oversamplig, save_dataset_to_pickle, load_dataset_from_pickle\n",
    "from training import train, validate, evaluate, evaluator_ir, train_ir, validate_ir, load_embeddings_from_file, make_embedding_matrix\n",
    "from training import get_optimizer, evaluate_better\n",
    "\n",
    "import transformers\n",
    "from transformers.optimization import AdamW\n",
    "from transformers import BertForSequenceClassification, BertConfig, BertTokenizer, BertModel, BertForMaskedLM\n",
    "\n",
    "from ir_models import LSTM_CNN_QA\n",
    "\n",
    "%matplotlib inline\n",
    "%load_ext autoreload\n",
    "%autoreload 2"
   ]
  },
  {
   "cell_type": "code",
   "execution_count": 2,
   "id": "reverse-flooring",
   "metadata": {},
   "outputs": [
    {
     "name": "stderr",
     "output_type": "stream",
     "text": [
      "Reusing dataset head_qa (C:\\Users\\tec005m\\.cache\\huggingface\\datasets\\head_qa\\es\\1.1.0\\473dc5357942a3ff52963bd73cad0d167bd1bbc1ca5ca0732ee7372b480dd735)\n"
     ]
    }
   ],
   "source": [
    "from datasets import load_dataset\n",
    "\n",
    "data_es = load_dataset('head_qa', 'es' )"
   ]
  },
  {
   "cell_type": "code",
   "execution_count": 3,
   "id": "comprehensive-shoulder",
   "metadata": {},
   "outputs": [],
   "source": [
    "training, validation, testing = data_es['train'], data_es['validation'], data_es['test']"
   ]
  },
  {
   "cell_type": "code",
   "execution_count": 4,
   "id": "reasonable-click",
   "metadata": {},
   "outputs": [],
   "source": [
    "training_instances = load_dataset_from_pickle('../data/training_ir.pickle')\n",
    "validation_instances = load_dataset_from_pickle('../data/validation_ir.pickle')\n",
    "testing_instances = load_dataset_from_pickle('../data/testing_ir.pickle')\n",
    "oversampled_training = load_dataset_from_pickle('../data/oversampled_training_ir.pickle')"
   ]
  },
  {
   "cell_type": "code",
   "execution_count": 5,
   "id": "urban-donor",
   "metadata": {},
   "outputs": [],
   "source": [
    "vectorizer = Vectorizer.vectorize_ir_dataset(oversampled_training)"
   ]
  },
  {
   "cell_type": "code",
   "execution_count": 6,
   "id": "controlling-watch",
   "metadata": {},
   "outputs": [],
   "source": [
    "vocab = vectorizer.sentence_vocab\n",
    "label_vocab = vectorizer.label_vocab"
   ]
  },
  {
   "cell_type": "code",
   "execution_count": 7,
   "id": "amino-search",
   "metadata": {},
   "outputs": [],
   "source": [
    "trainset = HeadQA_IR(instances=oversampled_training, vectorizer=vectorizer, right_padding=False, max_length=15)\n",
    "validset = HeadQA_IR(instances=validation_instances, vectorizer=vectorizer, right_padding=False, max_length=15)\n",
    "testset = HeadQA_IR(instances=testing_instances, vectorizer=vectorizer, right_padding=False, max_length=15)"
   ]
  },
  {
   "cell_type": "code",
   "execution_count": 8,
   "id": "greek-prairie",
   "metadata": {},
   "outputs": [],
   "source": [
    "batch_size = 32\n",
    "train_dt = DataLoader(trainset, batch_size=batch_size,drop_last=True)\n",
    "valid_dt = DataLoader(validset, batch_size=batch_size,drop_last=True)\n",
    "test_dt = DataLoader(testset, batch_size=batch_size,drop_last=True)"
   ]
  },
  {
   "cell_type": "code",
   "execution_count": 9,
   "id": "tough-singer",
   "metadata": {},
   "outputs": [],
   "source": [
    "word_to_idx = load_dataset_from_pickle('trained_models/biomedical_embeddings/word_to_index_ir.pickle')\n",
    "embeddings = load_dataset_from_pickle('trained_models/biomedical_embeddings/wordvectors_ir.pickle')"
   ]
  },
  {
   "cell_type": "code",
   "execution_count": 10,
   "id": "silent-findings",
   "metadata": {},
   "outputs": [],
   "source": [
    "embedding_file = \"trained_models/biomedical_embeddings/Scielo_wiki_FastText300.vec\"\n",
    "words = vocab.vocab2index.keys()\n",
    "embedding_matrix = make_embedding_matrix(embedding_file, list(words), word_to_idx, embeddings)"
   ]
  },
  {
   "cell_type": "code",
   "execution_count": 11,
   "id": "indirect-syria",
   "metadata": {},
   "outputs": [
    {
     "name": "stdout",
     "output_type": "stream",
     "text": [
      "Loading pretrained embeddings...\n"
     ]
    },
    {
     "name": "stderr",
     "output_type": "stream",
     "text": [
      "C:\\Users\\tec005m\\Anaconda3\\envs\\afi\\lib\\site-packages\\torch\\nn\\modules\\rnn.py:60: UserWarning: dropout option adds dropout after all but last recurrent layer, so non-zero dropout expects num_layers greater than 1, but got dropout=0.5 and num_layers=1\n",
      "  warnings.warn(\"dropout option adds dropout after all but last \"\n"
     ]
    }
   ],
   "source": [
    "torch.random.manual_seed(42)\n",
    "model = LSTM_CNN_QA(vocab_size=len(vocab), hidden_size=64, x_size=trainset.max_length, n_classes=1, embedding_size=300,\n",
    "               pretrained_embeddings=embedding_matrix)\n",
    "optimizer = get_optimizer(model, lr = 0.001, wd = 1e-5)"
   ]
  },
  {
   "cell_type": "code",
   "execution_count": 12,
   "id": "designing-drill",
   "metadata": {},
   "outputs": [
    {
     "name": "stderr",
     "output_type": "stream",
     "text": [
      "C:\\Users\\tec005m\\Anaconda3\\envs\\afi\\lib\\site-packages\\torch\\nn\\functional.py:1709: UserWarning: nn.functional.sigmoid is deprecated. Use torch.sigmoid instead.\n",
      "  warnings.warn(\"nn.functional.sigmoid is deprecated. Use torch.sigmoid instead.\")\n"
     ]
    },
    {
     "name": "stdout",
     "output_type": "stream",
     "text": [
      "Epoch 0 train loss  0.3193 valid loss 0.061 and accuracy 0.2500\n",
      "Epoch 1 train loss  0.3870 valid loss 0.043 and accuracy 0.2500\n",
      "Epoch 2 train loss  0.3788 valid loss 0.035 and accuracy 0.2500\n",
      "Epoch 3 train loss  0.3653 valid loss 0.038 and accuracy 0.2500\n",
      "Epoch 4 train loss  0.3677 valid loss 0.040 and accuracy 0.2500\n",
      "Epoch 5 train loss  0.3700 valid loss 0.040 and accuracy 0.2500\n",
      "Epoch 6 train loss  0.3710 valid loss 0.039 and accuracy 0.2500\n",
      "Epoch 7 train loss  0.3717 valid loss 0.037 and accuracy 0.2500\n",
      "Epoch 8 train loss  0.3922 valid loss 0.036 and accuracy 0.2500\n",
      "Epoch 9 train loss  0.3713 valid loss 0.036 and accuracy 0.2500\n",
      "Epoch 10 train loss  0.3741 valid loss 0.036 and accuracy 0.2500\n",
      "Epoch 11 train loss  0.3658 valid loss 0.035 and accuracy 0.2500\n",
      "Epoch 12 train loss  0.3748 valid loss 0.034 and accuracy 0.2500\n",
      "Epoch 13 train loss  0.3625 valid loss 0.035 and accuracy 0.2500\n",
      "Epoch 14 train loss  0.3711 valid loss 0.034 and accuracy 0.2500\n",
      "Epoch 15 train loss  0.3636 valid loss 0.035 and accuracy 0.2500\n",
      "Epoch 16 train loss  0.3634 valid loss 0.034 and accuracy 0.2500\n",
      "Epoch 17 train loss  0.3602 valid loss 0.032 and accuracy 0.2500\n",
      "Epoch 18 train loss  0.3572 valid loss 0.034 and accuracy 0.2500\n",
      "Epoch 19 train loss  0.3489 valid loss 0.034 and accuracy 0.2500\n",
      "Epoch 20 train loss  0.3458 valid loss 0.033 and accuracy 0.2500\n",
      "Epoch 21 train loss  0.3353 valid loss 0.034 and accuracy 0.2500\n",
      "Epoch 22 train loss  0.3281 valid loss 0.033 and accuracy 0.2500\n",
      "Epoch 23 train loss  0.3151 valid loss 0.032 and accuracy 0.2500\n",
      "Epoch 24 train loss  0.2965 valid loss 0.035 and accuracy 0.2500\n",
      "Epoch 25 train loss  0.2815 valid loss 0.033 and accuracy 0.2506\n",
      "Epoch 26 train loss  0.2539 valid loss 0.033 and accuracy 0.2511\n",
      "Epoch 27 train loss  0.2316 valid loss 0.031 and accuracy 0.2542\n",
      "Epoch 28 train loss  0.2029 valid loss 0.031 and accuracy 0.2564\n",
      "Epoch 29 train loss  0.1768 valid loss 0.031 and accuracy 0.2618\n",
      "Epoch 30 train loss  0.1500 valid loss 0.030 and accuracy 0.2739\n",
      "Epoch 31 train loss  0.1293 valid loss 0.031 and accuracy 0.2873\n",
      "Epoch 32 train loss  0.1187 valid loss 0.029 and accuracy 0.2976\n",
      "Epoch 33 train loss  0.1100 valid loss 0.030 and accuracy 0.3079\n",
      "Epoch 34 train loss  0.1004 valid loss 0.031 and accuracy 0.3349\n",
      "Epoch 35 train loss  0.0827 valid loss 0.033 and accuracy 0.3256\n",
      "Epoch 36 train loss  0.0785 valid loss 0.047 and accuracy 0.3596\n",
      "Epoch 37 train loss  0.0691 valid loss 0.033 and accuracy 0.3645\n",
      "Epoch 38 train loss  0.0659 valid loss 0.069 and accuracy 0.3592\n",
      "Epoch 39 train loss  0.0594 valid loss 0.067 and accuracy 0.3700\n",
      "Epoch 40 train loss  0.0507 valid loss 0.072 and accuracy 0.3463\n",
      "Epoch 41 train loss  0.0491 valid loss 0.067 and accuracy 0.3836\n",
      "Epoch 42 train loss  0.0463 valid loss 0.072 and accuracy 0.3493\n",
      "Epoch 43 train loss  0.0435 valid loss 0.068 and accuracy 0.3798\n",
      "Epoch 44 train loss  0.0447 valid loss 0.085 and accuracy 0.3787\n",
      "Epoch 45 train loss  0.0447 valid loss 0.067 and accuracy 0.3801\n",
      "Epoch 46 train loss  0.0332 valid loss 0.068 and accuracy 0.4107\n",
      "Epoch 47 train loss  0.0340 valid loss 0.053 and accuracy 0.4017\n",
      "Epoch 48 train loss  0.0331 valid loss 0.070 and accuracy 0.3983\n",
      "Epoch 49 train loss  0.0333 valid loss 0.058 and accuracy 0.3801\n"
     ]
    }
   ],
   "source": [
    "training_results = train_ir(model, optimizer, train_dt, valid_dt, validate_ir, epochs=50)"
   ]
  },
  {
   "cell_type": "code",
   "execution_count": 13,
   "id": "spiritual-buying",
   "metadata": {},
   "outputs": [
    {
     "data": {
      "text/plain": [
       "(tensor([0.2575]), 82)"
      ]
     },
     "execution_count": 13,
     "metadata": {},
     "output_type": "execute_result"
    }
   ],
   "source": [
    "acc, points = evaluate(model, testing, trainset.encode, evaluator_ir)\n",
    "acc, points"
   ]
  },
  {
   "cell_type": "code",
   "execution_count": 14,
   "id": "built-international",
   "metadata": {},
   "outputs": [
    {
     "data": {
      "text/plain": [
       "(tensor([0.2687]), 102)"
      ]
     },
     "execution_count": 14,
     "metadata": {},
     "output_type": "execute_result"
    }
   ],
   "source": [
    "acc, points = evaluate(model, validation, trainset.encode, evaluator_ir)\n",
    "acc, points"
   ]
  },
  {
   "cell_type": "code",
   "execution_count": 15,
   "id": "hourly-marina",
   "metadata": {},
   "outputs": [],
   "source": [
    "save_dataset_to_pickle('../data/train_results_lstm_cnn_qa.pickle', training_results)\n",
    "training_results = load_dataset_from_pickle('../data/train_results_lstm_cnn_qa.pickle')"
   ]
  },
  {
   "cell_type": "code",
   "execution_count": 16,
   "id": "complimentary-manner",
   "metadata": {},
   "outputs": [],
   "source": [
    "model_path = os.getcwd() + '/trained_models/lstm_cnn_qa'\n",
    "torch.save(model.state_dict(), model_path)"
   ]
  },
  {
   "cell_type": "code",
   "execution_count": 17,
   "id": "cheap-adoption",
   "metadata": {},
   "outputs": [
    {
     "name": "stdout",
     "output_type": "stream",
     "text": [
      "Loading pretrained embeddings...\n"
     ]
    },
    {
     "data": {
      "text/plain": [
       "LSTM_CNN_QA(\n",
       "  (emb): Embedding(20403, 300, padding_idx=0)\n",
       "  (dropout): Dropout(p=0.5, inplace=False)\n",
       "  (lstm): LSTM(300, 64, batch_first=True, dropout=0.5, bidirectional=True)\n",
       "  (conv): Conv1d(2, 10, kernel_size=(3,), stride=(1,))\n",
       "  (cosine): CosineSimilarity()\n",
       "  (linear): Linear(in_features=128, out_features=64, bias=True)\n",
       "  (linear1): Linear(in_features=64, out_features=1, bias=True)\n",
       ")"
      ]
     },
     "execution_count": 17,
     "metadata": {},
     "output_type": "execute_result"
    }
   ],
   "source": [
    "model = LSTM_CNN_QA(vocab_size=len(vocab), hidden_size=64, x_size=trainset.max_length, n_classes=1, embedding_size=300,\n",
    "               pretrained_embeddings=embedding_matrix)\n",
    "model.load_state_dict(torch.load(os.getcwd() + '/trained_models/lstm_cnn_qa'))\n",
    "model.eval()"
   ]
  },
  {
   "cell_type": "code",
   "execution_count": 18,
   "id": "studied-authorization",
   "metadata": {},
   "outputs": [
    {
     "data": {
      "text/plain": [
       "(0.26869407,\n",
       " 17.0,\n",
       " [tensor(0.2965),\n",
       "  tensor(0.2696),\n",
       "  tensor(0.2711),\n",
       "  tensor(0.2424),\n",
       "  tensor(0.2168),\n",
       "  tensor(0.3158)],\n",
       " [42, 18, 19, -7, -30, 60])"
      ]
     },
     "execution_count": 18,
     "metadata": {},
     "output_type": "execute_result"
    }
   ],
   "source": [
    "acc, points, acc_list, points_list = evaluate_better(model, validation, trainset.encode, evaluator_ir)\n",
    "acc, points, acc_list, points_list"
   ]
  },
  {
   "cell_type": "code",
   "execution_count": 19,
   "id": "solar-group",
   "metadata": {},
   "outputs": [
    {
     "data": {
      "text/plain": [
       "(0.257569,\n",
       " 6.833333333333333,\n",
       " [tensor(0.2544),\n",
       "  tensor(0.2780),\n",
       "  tensor(0.2544),\n",
       "  tensor(0.2328),\n",
       "  tensor(0.2565),\n",
       "  tensor(0.3160),\n",
       "  tensor(0.2434),\n",
       "  tensor(0.2543),\n",
       "  tensor(0.2314),\n",
       "  tensor(0.2165),\n",
       "  tensor(0.2844),\n",
       "  tensor(0.2687)],\n",
       " [4, 25, 4, -16, 6, 61, -6, 4, -17, -31, 31, 17])"
      ]
     },
     "execution_count": 19,
     "metadata": {},
     "output_type": "execute_result"
    }
   ],
   "source": [
    "acc, points, acc_list, points_list = evaluate_better(model, testing, trainset.encode, evaluator_ir)\n",
    "acc, points, acc_list, points_list"
   ]
  },
  {
   "cell_type": "code",
   "execution_count": null,
   "id": "miniature-utilization",
   "metadata": {},
   "outputs": [],
   "source": []
  }
 ],
 "metadata": {
  "kernelspec": {
   "display_name": "Python 3",
   "language": "python",
   "name": "python3"
  },
  "language_info": {
   "codemirror_mode": {
    "name": "ipython",
    "version": 3
   },
   "file_extension": ".py",
   "mimetype": "text/x-python",
   "name": "python",
   "nbconvert_exporter": "python",
   "pygments_lexer": "ipython3",
   "version": "3.8.5"
  }
 },
 "nbformat": 4,
 "nbformat_minor": 5
}
