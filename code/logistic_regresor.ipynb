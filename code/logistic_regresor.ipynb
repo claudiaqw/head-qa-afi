{
 "cells": [
  {
   "cell_type": "code",
   "execution_count": null,
   "id": "visible-vault",
   "metadata": {},
   "outputs": [],
   "source": [
    "import pandas as pd\n",
    "import numpy as np \n",
    "import matplotlib.pyplot as plt\n",
    "import seaborn as sns\n",
    "from collections import Counter\n",
    "\n",
    "import torch\n",
    "import torch.nn as nn\n",
    "import torch.nn.functional as F\n",
    "from torch.utils.data import Dataset, DataLoader\n",
    "from torch.nn.utils.rnn import pack_padded_sequence, pad_packed_sequence\n",
    "\n",
    "from utils_data import Vocabulary, Vectorizer, HeadQA, clean_words\n",
    "from training import train, evaluate, validate\n",
    "\n",
    "\n",
    "%matplotlib inline\n",
    "%load_ext autoreload\n",
    "%autoreload 2"
   ]
  },
  {
   "cell_type": "code",
   "execution_count": null,
   "id": "engaged-norwegian",
   "metadata": {},
   "outputs": [],
   "source": [
    "from datasets import load_dataset\n",
    "\n",
    "# data_en = load_dataset('head_qa', 'en')\n",
    "data_es = load_dataset('head_qa', 'es' )\n",
    "data_es"
   ]
  },
  {
   "cell_type": "code",
   "execution_count": null,
   "id": "banner-mattress",
   "metadata": {},
   "outputs": [],
   "source": [
    "training, validation, testing = data_es['train'], data_es['validation'], data_es['test']"
   ]
  },
  {
   "cell_type": "code",
   "execution_count": null,
   "id": "direct-humanity",
   "metadata": {},
   "outputs": [],
   "source": [
    "for d in training:\n",
    "    print(d)\n",
    "    break;"
   ]
  },
  {
   "cell_type": "code",
   "execution_count": null,
   "id": "dynamic-yugoslavia",
   "metadata": {},
   "outputs": [],
   "source": [
    "#!python -m spacy download es_core_news_sm"
   ]
  },
  {
   "cell_type": "code",
   "execution_count": null,
   "id": "broken-healing",
   "metadata": {},
   "outputs": [],
   "source": [
    "import spacy\n",
    "nlp = spacy.load(\"es_core_news_sm\")\n",
    "\n",
    "vocabulary = Vocabulary()"
   ]
  },
  {
   "cell_type": "code",
   "execution_count": null,
   "id": "streaming-forth",
   "metadata": {},
   "outputs": [],
   "source": [
    "def parse_training(training):\n",
    "    train = []       \n",
    "    for sample in training:\n",
    "        qtext, answers= sample['qtext'], sample['answers'] \n",
    "        q = nlp(qtext)\n",
    "        tok_qtext = [token.text for token in q]\n",
    "        right_answer = sample['ra']        \n",
    "        for answer in answers:\n",
    "            aid, atext = answer['aid'], answer['atext']\n",
    "            a = nlp(atext)\n",
    "            tok_atext = [token.text for token in a]\n",
    "            instance_x = tok_qtext + ['SEP'] + tok_atext    \n",
    "            instance_y = 1 if right_answer == aid else 0\n",
    "            training_sample = {}\n",
    "            training_sample['question'] = qtext\n",
    "            training_sample['answer'] = atext\n",
    "            training_sample['label'] = instance_y\n",
    "            training_sample['sample_tok'] = instance_x\n",
    "            training_sample['category'] = sample['category']\n",
    "            train.append(training_sample)\n",
    "    return train"
   ]
  },
  {
   "cell_type": "code",
   "execution_count": null,
   "id": "together-canvas",
   "metadata": {},
   "outputs": [],
   "source": [
    "instances = parse_training(training)\n",
    "instances[0]"
   ]
  },
  {
   "cell_type": "code",
   "execution_count": null,
   "id": "declared-bidder",
   "metadata": {},
   "outputs": [],
   "source": [
    "vectorizer = Vectorizer.vectorize_training(instances)"
   ]
  },
  {
   "cell_type": "code",
   "execution_count": null,
   "id": "blocked-signal",
   "metadata": {},
   "outputs": [],
   "source": [
    "dataset = HeadQA(instances=instances, vectorizer=vectorizer, right_padding=False, max_length=30)\n",
    "batch_size = 32\n",
    "dataloader = DataLoader(dataset, batch_size=batch_size,shuffle=True, drop_last=True)"
   ]
  },
  {
   "cell_type": "code",
   "execution_count": null,
   "id": "polish-definition",
   "metadata": {},
   "outputs": [],
   "source": [
    "for x, y in dataset:\n",
    "    print(x)\n",
    "    print(y)\n",
    "    break;"
   ]
  },
  {
   "cell_type": "code",
   "execution_count": null,
   "id": "clean-angle",
   "metadata": {},
   "outputs": [],
   "source": [
    "class LogisticRegression(torch.nn.Module):\n",
    "    def __init__(self, x_size, n_classes): \n",
    "        super(LogisticRegression, self).__init__()             \n",
    "        self.linear = nn.Linear(x_size, n_classes)\n",
    "        \n",
    "    def forward(self, x):\n",
    "        x = self.linear(x)\n",
    "        return F.softmax(x, dim=1)"
   ]
  },
  {
   "cell_type": "code",
   "execution_count": null,
   "id": "parental-underwear",
   "metadata": {},
   "outputs": [],
   "source": [
    "def get_optimizer(model, lr = 0.01, wd = 0.0):\n",
    "    optim = torch.optim.Adam(model.parameters(), lr=lr, weight_decay=wd)\n",
    "    return optim"
   ]
  },
  {
   "cell_type": "code",
   "execution_count": null,
   "id": "prescription-democrat",
   "metadata": {},
   "outputs": [],
   "source": [
    "model = LogisticRegression(dataset.max_length, 1)\n",
    "optimizer = get_optimizer(model, lr = 0.0001, wd = 1e-5)"
   ]
  },
  {
   "cell_type": "code",
   "execution_count": null,
   "id": "precise-server",
   "metadata": {},
   "outputs": [],
   "source": [
    "training_results = train(model, optimizer, dataloader, dataloader)"
   ]
  },
  {
   "cell_type": "code",
   "execution_count": null,
   "id": "toxic-sacrifice",
   "metadata": {},
   "outputs": [],
   "source": []
  }
 ],
 "metadata": {
  "kernelspec": {
   "display_name": "Python 3",
   "language": "python",
   "name": "python3"
  },
  "language_info": {
   "codemirror_mode": {
    "name": "ipython",
    "version": 3
   },
   "file_extension": ".py",
   "mimetype": "text/x-python",
   "name": "python",
   "nbconvert_exporter": "python",
   "pygments_lexer": "ipython3",
   "version": "3.8.5"
  }
 },
 "nbformat": 4,
 "nbformat_minor": 5
}
