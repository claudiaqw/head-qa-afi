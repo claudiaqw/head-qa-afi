{
 "cells": [
  {
   "cell_type": "code",
   "execution_count": 7,
   "metadata": {},
   "outputs": [],
   "source": [
    "import pandas as pd\n",
    "import numpy as np\n",
    " \n",
    "import matplotlib.pyplot as plt\n",
    "import seaborn as sns\n",
    "\n",
    "from collections import Counter\n",
    "\n",
    "from utils_data import Vocabulary, clean_words\n",
    "\n",
    "%matplotlib inline\n",
    "%load_ext autoreload\n",
    "%autoreload 2"
   ]
  },
  {
   "cell_type": "code",
   "execution_count": 8,
   "metadata": {},
   "outputs": [
    {
     "data": {
      "application/vnd.jupyter.widget-view+json": {
       "model_id": "53a47368f4ef43f79fb5ad5ca5d8343f",
       "version_major": 2,
       "version_minor": 0
      },
      "text/plain": [
       "HBox(children=(FloatProgress(value=0.0, description='Downloading', max=2282.0, style=ProgressStyle(description…"
      ]
     },
     "metadata": {},
     "output_type": "display_data"
    },
    {
     "name": "stdout",
     "output_type": "stream",
     "text": [
      "\n"
     ]
    },
    {
     "data": {
      "application/vnd.jupyter.widget-view+json": {
       "model_id": "56d7ad8b96df4e09b2c44f275519626e",
       "version_major": 2,
       "version_minor": 0
      },
      "text/plain": [
       "HBox(children=(FloatProgress(value=0.0, description='Downloading', max=1506.0, style=ProgressStyle(description…"
      ]
     },
     "metadata": {},
     "output_type": "display_data"
    },
    {
     "name": "stdout",
     "output_type": "stream",
     "text": [
      "\n",
      "Downloading and preparing dataset head_qa/es (download: 1.77 MiB, generated: 2.82 MiB, post-processed: Unknown size, total: 4.59 MiB) to C:\\Users\\CLAUDIA\\.cache\\huggingface\\datasets\\head_qa\\es\\1.1.0\\d6803d1e84273cdc4a2cf3c5102945d166555f47b299ecbc5266d582f408f8e2...\n"
     ]
    },
    {
     "data": {
      "application/vnd.jupyter.widget-view+json": {
       "model_id": "7cf2d2cce26140a1b27f7b6ff2100d3e",
       "version_major": 2,
       "version_minor": 0
      },
      "text/plain": [
       "HBox(children=(FloatProgress(value=0.0, description='Downloading', max=1856679.0, style=ProgressStyle(descript…"
      ]
     },
     "metadata": {},
     "output_type": "display_data"
    },
    {
     "name": "stdout",
     "output_type": "stream",
     "text": [
      "\n"
     ]
    },
    {
     "data": {
      "application/vnd.jupyter.widget-view+json": {
       "model_id": "",
       "version_major": 2,
       "version_minor": 0
      },
      "text/plain": [
       "HBox(children=(FloatProgress(value=1.0, bar_style='info', max=1.0), HTML(value='')))"
      ]
     },
     "metadata": {},
     "output_type": "display_data"
    },
    {
     "data": {
      "application/vnd.jupyter.widget-view+json": {
       "model_id": "",
       "version_major": 2,
       "version_minor": 0
      },
      "text/plain": [
       "HBox(children=(FloatProgress(value=1.0, bar_style='info', max=1.0), HTML(value='')))"
      ]
     },
     "metadata": {},
     "output_type": "display_data"
    },
    {
     "data": {
      "application/vnd.jupyter.widget-view+json": {
       "model_id": "",
       "version_major": 2,
       "version_minor": 0
      },
      "text/plain": [
       "HBox(children=(FloatProgress(value=1.0, bar_style='info', max=1.0), HTML(value='')))"
      ]
     },
     "metadata": {},
     "output_type": "display_data"
    },
    {
     "name": "stdout",
     "output_type": "stream",
     "text": [
      "Dataset head_qa downloaded and prepared to C:\\Users\\CLAUDIA\\.cache\\huggingface\\datasets\\head_qa\\es\\1.1.0\\d6803d1e84273cdc4a2cf3c5102945d166555f47b299ecbc5266d582f408f8e2. Subsequent calls will reuse this data.\n"
     ]
    },
    {
     "data": {
      "text/plain": [
       "DatasetDict({\n",
       "    train: Dataset({\n",
       "        features: ['name', 'year', 'category', 'qid', 'qtext', 'ra', 'image', 'answers'],\n",
       "        num_rows: 2657\n",
       "    })\n",
       "    test: Dataset({\n",
       "        features: ['name', 'year', 'category', 'qid', 'qtext', 'ra', 'image', 'answers'],\n",
       "        num_rows: 2742\n",
       "    })\n",
       "    validation: Dataset({\n",
       "        features: ['name', 'year', 'category', 'qid', 'qtext', 'ra', 'image', 'answers'],\n",
       "        num_rows: 1366\n",
       "    })\n",
       "})"
      ]
     },
     "execution_count": 8,
     "metadata": {},
     "output_type": "execute_result"
    }
   ],
   "source": [
    "from datasets import load_dataset\n",
    "\n",
    "# data_en = load_dataset('head_qa', 'en')\n",
    "data_es = load_dataset('head_qa', 'es' )\n",
    "data_es"
   ]
  },
  {
   "cell_type": "code",
   "execution_count": 9,
   "metadata": {},
   "outputs": [],
   "source": [
    "training, validation, testing = data_es['train'], data_es['validation'], data_es['test']"
   ]
  },
  {
   "cell_type": "code",
   "execution_count": 10,
   "metadata": {},
   "outputs": [
    {
     "name": "stdout",
     "output_type": "stream",
     "text": [
      "{'name': 'Cuaderno_2013_1_B', 'year': '2013', 'category': 'biology', 'qid': 1, 'qtext': 'Los potenciales postsinápticos excitadores:', 'ra': 3, 'image': '', 'answers': [{'aid': 1, 'atext': 'Son de tipo todo o nada.'}, {'aid': 2, 'atext': 'Son hiperpolarizantes.'}, {'aid': 3, 'atext': 'Se pueden sumar.'}, {'aid': 4, 'atext': 'Se propagan a largas distancias.'}, {'aid': 5, 'atext': 'Presentan un periodo refractario.'}]}\n"
     ]
    }
   ],
   "source": [
    "for d in training:\n",
    "    print(d)\n",
    "    break;"
   ]
  },
  {
   "cell_type": "code",
   "execution_count": 13,
   "metadata": {},
   "outputs": [],
   "source": [
    "#!python -m spacy download es_core_news_sm"
   ]
  },
  {
   "cell_type": "code",
   "execution_count": 14,
   "metadata": {},
   "outputs": [],
   "source": [
    "import spacy\n",
    "nlp = spacy.load(\"es_core_news_sm\")\n",
    "\n",
    "vocabulary = Vocabulary()"
   ]
  },
  {
   "cell_type": "code",
   "execution_count": 17,
   "metadata": {},
   "outputs": [],
   "source": [
    "def parse_training(training):\n",
    "    train = []       \n",
    "    for sample in training:\n",
    "        training_sample = {}\n",
    "        qtext = sample['qtext']\n",
    "        answers = sample['answers']        \n",
    "        q = nlp(qtext)\n",
    "        tok_qtext = [token.text for token in q]\n",
    "        right_answer = sample['ra']        \n",
    "        for answer in answers:\n",
    "            aid, atext = answer['aid'], answer['atext']\n",
    "            a = nlp(atext)\n",
    "            tok_atext = [token.text for token in a]\n",
    "            instance_x = tok_qtext + ['SEP'] + tok_atext    \n",
    "            instance_y = 1 if right_answer == aid else 0\n",
    "            training_sample['question'] = qtext\n",
    "            training_sample['answer'] = atext\n",
    "            training_sample['label'] = instance_y\n",
    "            training_sample['sample_tok'] = instance_x\n",
    "            training_sample['category'] = sample['category']\n",
    "            train.append(training_sample)\n",
    "            print(training_sample)\n",
    "        break"
   ]
  },
  {
   "cell_type": "code",
   "execution_count": 18,
   "metadata": {},
   "outputs": [
    {
     "name": "stdout",
     "output_type": "stream",
     "text": [
      "{'question': 'Los potenciales postsinápticos excitadores:', 'answer': 'Son de tipo todo o nada.', 'label': 0, 'sample_tok': ['Los', 'potenciales', 'postsinápticos', 'excitadores', ':', 'SEP', 'Son', 'de', 'tipo', 'todo', 'o', 'nada', '.'], 'category': 'biology'}\n",
      "{'question': 'Los potenciales postsinápticos excitadores:', 'answer': 'Son hiperpolarizantes.', 'label': 0, 'sample_tok': ['Los', 'potenciales', 'postsinápticos', 'excitadores', ':', 'SEP', 'Son', 'hiperpolarizantes', '.'], 'category': 'biology'}\n",
      "{'question': 'Los potenciales postsinápticos excitadores:', 'answer': 'Se pueden sumar.', 'label': 1, 'sample_tok': ['Los', 'potenciales', 'postsinápticos', 'excitadores', ':', 'SEP', 'Se', 'pueden', 'sumar', '.'], 'category': 'biology'}\n",
      "{'question': 'Los potenciales postsinápticos excitadores:', 'answer': 'Se propagan a largas distancias.', 'label': 0, 'sample_tok': ['Los', 'potenciales', 'postsinápticos', 'excitadores', ':', 'SEP', 'Se', 'propagan', 'a', 'largas', 'distancias', '.'], 'category': 'biology'}\n",
      "{'question': 'Los potenciales postsinápticos excitadores:', 'answer': 'Presentan un periodo refractario.', 'label': 0, 'sample_tok': ['Los', 'potenciales', 'postsinápticos', 'excitadores', ':', 'SEP', 'Presentan', 'un', 'periodo', 'refractario', '.'], 'category': 'biology'}\n"
     ]
    }
   ],
   "source": [
    "parse_training(training)"
   ]
  },
  {
   "cell_type": "code",
   "execution_count": null,
   "metadata": {},
   "outputs": [],
   "source": [
    "class LogisticRegression(torch.nn.Module):\n",
    "    def __init__(self, x_size, n_classes): \n",
    "        super(LogisticRegression, self).__init__()             \n",
    "        self.linear = nn.Linear(x_size, n_classes)\n",
    "        \n",
    "    def forward(self, x):\n",
    "        return self.linear(x)"
   ]
  }
 ],
 "metadata": {
  "kernelspec": {
   "display_name": "Python 3",
   "language": "python",
   "name": "python3"
  }
 },
 "nbformat": 4,
 "nbformat_minor": 5
}
