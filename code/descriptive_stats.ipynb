{
 "cells": [
  {
   "cell_type": "code",
   "execution_count": 1,
   "id": "valued-lobby",
   "metadata": {},
   "outputs": [],
   "source": [
    "import pandas as pd\n",
    "import numpy as np\n",
    " \n",
    "import matplotlib.pyplot as plt\n",
    "import seaborn as sns\n",
    "\n",
    "from collections import Counter\n",
    "\n",
    "%matplotlib inline"
   ]
  },
  {
   "cell_type": "code",
   "execution_count": 2,
   "id": "annoying-honduras",
   "metadata": {},
   "outputs": [
    {
     "name": "stderr",
     "output_type": "stream",
     "text": [
      "Reusing dataset head_qa (C:\\Users\\tec005m\\.cache\\huggingface\\datasets\\head_qa\\es\\1.1.0\\473dc5357942a3ff52963bd73cad0d167bd1bbc1ca5ca0732ee7372b480dd735)\n"
     ]
    },
    {
     "data": {
      "text/plain": [
       "DatasetDict({\n",
       "    train: Dataset({\n",
       "        features: ['name', 'year', 'category', 'qid', 'qtext', 'ra', 'image', 'answers'],\n",
       "        num_rows: 2657\n",
       "    })\n",
       "    test: Dataset({\n",
       "        features: ['name', 'year', 'category', 'qid', 'qtext', 'ra', 'image', 'answers'],\n",
       "        num_rows: 2742\n",
       "    })\n",
       "    validation: Dataset({\n",
       "        features: ['name', 'year', 'category', 'qid', 'qtext', 'ra', 'image', 'answers'],\n",
       "        num_rows: 1366\n",
       "    })\n",
       "})"
      ]
     },
     "execution_count": 2,
     "metadata": {},
     "output_type": "execute_result"
    }
   ],
   "source": [
    "from datasets import load_dataset\n",
    "\n",
    "# data_en = load_dataset('head_qa', 'en')\n",
    "data_es = load_dataset('head_qa', 'es' )\n",
    "data_es"
   ]
  },
  {
   "cell_type": "code",
   "execution_count": 3,
   "id": "strong-pattern",
   "metadata": {},
   "outputs": [],
   "source": [
    "training, validation, testing = data_es['train'], data_es['validation'], data_es['test']"
   ]
  },
  {
   "cell_type": "code",
   "execution_count": 4,
   "id": "theoretical-resistance",
   "metadata": {},
   "outputs": [
    {
     "data": {
      "text/html": [
       "<div>\n",
       "<style scoped>\n",
       "    .dataframe tbody tr th:only-of-type {\n",
       "        vertical-align: middle;\n",
       "    }\n",
       "\n",
       "    .dataframe tbody tr th {\n",
       "        vertical-align: top;\n",
       "    }\n",
       "\n",
       "    .dataframe thead th {\n",
       "        text-align: right;\n",
       "    }\n",
       "</style>\n",
       "<table border=\"1\" class=\"dataframe\">\n",
       "  <thead>\n",
       "    <tr style=\"text-align: right;\">\n",
       "      <th></th>\n",
       "      <th>answers</th>\n",
       "      <th>category</th>\n",
       "      <th>image</th>\n",
       "      <th>name</th>\n",
       "      <th>qid</th>\n",
       "      <th>qtext</th>\n",
       "      <th>ra</th>\n",
       "      <th>year</th>\n",
       "    </tr>\n",
       "  </thead>\n",
       "  <tbody>\n",
       "    <tr>\n",
       "      <th>0</th>\n",
       "      <td>[{'aid': 1, 'atext': 'Son de tipo todo o nada....</td>\n",
       "      <td>biology</td>\n",
       "      <td></td>\n",
       "      <td>Cuaderno_2013_1_B</td>\n",
       "      <td>1</td>\n",
       "      <td>Los potenciales postsinápticos excitadores:</td>\n",
       "      <td>3</td>\n",
       "      <td>2013</td>\n",
       "    </tr>\n",
       "    <tr>\n",
       "      <th>1</th>\n",
       "      <td>[{'aid': 1, 'atext': 'Músculo liso.'}, {'aid':...</td>\n",
       "      <td>biology</td>\n",
       "      <td></td>\n",
       "      <td>Cuaderno_2013_1_B</td>\n",
       "      <td>2</td>\n",
       "      <td>Placa motora es la unión entre la neurona moto...</td>\n",
       "      <td>2</td>\n",
       "      <td>2013</td>\n",
       "    </tr>\n",
       "    <tr>\n",
       "      <th>2</th>\n",
       "      <td>[{'aid': 1, 'atext': 'Fibras musculares lisas....</td>\n",
       "      <td>biology</td>\n",
       "      <td></td>\n",
       "      <td>Cuaderno_2013_1_B</td>\n",
       "      <td>3</td>\n",
       "      <td>NO generan potenciales de acción:</td>\n",
       "      <td>2</td>\n",
       "      <td>2013</td>\n",
       "    </tr>\n",
       "    <tr>\n",
       "      <th>3</th>\n",
       "      <td>[{'aid': 1, 'atext': 'Corteza premotora.'}, {'...</td>\n",
       "      <td>biology</td>\n",
       "      <td></td>\n",
       "      <td>Cuaderno_2013_1_B</td>\n",
       "      <td>4</td>\n",
       "      <td>En la iniciación de los movimientos voluntario...</td>\n",
       "      <td>1</td>\n",
       "      <td>2013</td>\n",
       "    </tr>\n",
       "    <tr>\n",
       "      <th>4</th>\n",
       "      <td>[{'aid': 1, 'atext': 'Están inervados por fibr...</td>\n",
       "      <td>biology</td>\n",
       "      <td></td>\n",
       "      <td>Cuaderno_2013_1_B</td>\n",
       "      <td>5</td>\n",
       "      <td>Los corpúsculos de Pacini:</td>\n",
       "      <td>4</td>\n",
       "      <td>2013</td>\n",
       "    </tr>\n",
       "    <tr>\n",
       "      <th>...</th>\n",
       "      <td>...</td>\n",
       "      <td>...</td>\n",
       "      <td>...</td>\n",
       "      <td>...</td>\n",
       "      <td>...</td>\n",
       "      <td>...</td>\n",
       "      <td>...</td>\n",
       "      <td>...</td>\n",
       "    </tr>\n",
       "    <tr>\n",
       "      <th>2652</th>\n",
       "      <td>[{'aid': 1, 'atext': 'Cetonas.'}, {'aid': 2, '...</td>\n",
       "      <td>chemistry</td>\n",
       "      <td></td>\n",
       "      <td>Cuaderno_2014_1_Q</td>\n",
       "      <td>231</td>\n",
       "      <td>La síntesis con éster malónico es un método im...</td>\n",
       "      <td>5</td>\n",
       "      <td>2014</td>\n",
       "    </tr>\n",
       "    <tr>\n",
       "      <th>2653</th>\n",
       "      <td>[{'aid': 1, 'atext': 'Por utilizar la onda cua...</td>\n",
       "      <td>chemistry</td>\n",
       "      <td></td>\n",
       "      <td>Cuaderno_2014_1_Q</td>\n",
       "      <td>232</td>\n",
       "      <td>El análisis por redisolución potenciométrica s...</td>\n",
       "      <td>3</td>\n",
       "      <td>2014</td>\n",
       "    </tr>\n",
       "    <tr>\n",
       "      <th>2654</th>\n",
       "      <td>[{'aid': 1, 'atext': 'Sulfanil urea.'}, {'aid'...</td>\n",
       "      <td>chemistry</td>\n",
       "      <td></td>\n",
       "      <td>Cuaderno_2014_1_Q</td>\n",
       "      <td>233</td>\n",
       "      <td>Tras la reacción de algunos xenobióticos con e...</td>\n",
       "      <td>5</td>\n",
       "      <td>2014</td>\n",
       "    </tr>\n",
       "    <tr>\n",
       "      <th>2655</th>\n",
       "      <td>[{'aid': 1, 'atext': 'Ácido acético.'}, {'aid'...</td>\n",
       "      <td>chemistry</td>\n",
       "      <td></td>\n",
       "      <td>Cuaderno_2014_1_Q</td>\n",
       "      <td>234</td>\n",
       "      <td>Indicar, cuál de los compuestos relacionados a...</td>\n",
       "      <td>2</td>\n",
       "      <td>2014</td>\n",
       "    </tr>\n",
       "    <tr>\n",
       "      <th>2656</th>\n",
       "      <td>[{'aid': 1, 'atext': 'Una proteína que contien...</td>\n",
       "      <td>chemistry</td>\n",
       "      <td></td>\n",
       "      <td>Cuaderno_2014_1_Q</td>\n",
       "      <td>235</td>\n",
       "      <td>Una proteína conjugada es:</td>\n",
       "      <td>1</td>\n",
       "      <td>2014</td>\n",
       "    </tr>\n",
       "  </tbody>\n",
       "</table>\n",
       "<p>2657 rows × 8 columns</p>\n",
       "</div>"
      ],
      "text/plain": [
       "                                                answers   category image  \\\n",
       "0     [{'aid': 1, 'atext': 'Son de tipo todo o nada....    biology         \n",
       "1     [{'aid': 1, 'atext': 'Músculo liso.'}, {'aid':...    biology         \n",
       "2     [{'aid': 1, 'atext': 'Fibras musculares lisas....    biology         \n",
       "3     [{'aid': 1, 'atext': 'Corteza premotora.'}, {'...    biology         \n",
       "4     [{'aid': 1, 'atext': 'Están inervados por fibr...    biology         \n",
       "...                                                 ...        ...   ...   \n",
       "2652  [{'aid': 1, 'atext': 'Cetonas.'}, {'aid': 2, '...  chemistry         \n",
       "2653  [{'aid': 1, 'atext': 'Por utilizar la onda cua...  chemistry         \n",
       "2654  [{'aid': 1, 'atext': 'Sulfanil urea.'}, {'aid'...  chemistry         \n",
       "2655  [{'aid': 1, 'atext': 'Ácido acético.'}, {'aid'...  chemistry         \n",
       "2656  [{'aid': 1, 'atext': 'Una proteína que contien...  chemistry         \n",
       "\n",
       "                   name  qid  \\\n",
       "0     Cuaderno_2013_1_B    1   \n",
       "1     Cuaderno_2013_1_B    2   \n",
       "2     Cuaderno_2013_1_B    3   \n",
       "3     Cuaderno_2013_1_B    4   \n",
       "4     Cuaderno_2013_1_B    5   \n",
       "...                 ...  ...   \n",
       "2652  Cuaderno_2014_1_Q  231   \n",
       "2653  Cuaderno_2014_1_Q  232   \n",
       "2654  Cuaderno_2014_1_Q  233   \n",
       "2655  Cuaderno_2014_1_Q  234   \n",
       "2656  Cuaderno_2014_1_Q  235   \n",
       "\n",
       "                                                  qtext  ra  year  \n",
       "0           Los potenciales postsinápticos excitadores:   3  2013  \n",
       "1     Placa motora es la unión entre la neurona moto...   2  2013  \n",
       "2                     NO generan potenciales de acción:   2  2013  \n",
       "3     En la iniciación de los movimientos voluntario...   1  2013  \n",
       "4                            Los corpúsculos de Pacini:   4  2013  \n",
       "...                                                 ...  ..   ...  \n",
       "2652  La síntesis con éster malónico es un método im...   5  2014  \n",
       "2653  El análisis por redisolución potenciométrica s...   3  2014  \n",
       "2654  Tras la reacción de algunos xenobióticos con e...   5  2014  \n",
       "2655  Indicar, cuál de los compuestos relacionados a...   2  2014  \n",
       "2656                         Una proteína conjugada es:   1  2014  \n",
       "\n",
       "[2657 rows x 8 columns]"
      ]
     },
     "execution_count": 4,
     "metadata": {},
     "output_type": "execute_result"
    }
   ],
   "source": [
    "pd.DataFrame(data=training)"
   ]
  },
  {
   "cell_type": "code",
   "execution_count": 5,
   "id": "encouraging-degree",
   "metadata": {},
   "outputs": [],
   "source": [
    "training_categ_count = pd.DataFrame(training).groupby(by='category', as_index=False).agg({'qid': 'count'})\n",
    "validation_categ_count = pd.DataFrame(validation).groupby(by='category', as_index=False).agg({'qid': 'count'})\n",
    "testing_categ_count = pd.DataFrame(testing).groupby(by='category', as_index=False).agg({'qid': 'count'})"
   ]
  },
  {
   "cell_type": "code",
   "execution_count": 6,
   "id": "coordinated-necessity",
   "metadata": {},
   "outputs": [
    {
     "data": {
      "text/html": [
       "<div>\n",
       "<style scoped>\n",
       "    .dataframe tbody tr th:only-of-type {\n",
       "        vertical-align: middle;\n",
       "    }\n",
       "\n",
       "    .dataframe tbody tr th {\n",
       "        vertical-align: top;\n",
       "    }\n",
       "\n",
       "    .dataframe thead th {\n",
       "        text-align: right;\n",
       "    }\n",
       "</style>\n",
       "<table border=\"1\" class=\"dataframe\">\n",
       "  <thead>\n",
       "    <tr style=\"text-align: right;\">\n",
       "      <th></th>\n",
       "      <th>category</th>\n",
       "      <th>qid</th>\n",
       "    </tr>\n",
       "  </thead>\n",
       "  <tbody>\n",
       "    <tr>\n",
       "      <th>0</th>\n",
       "      <td>biology</td>\n",
       "      <td>452</td>\n",
       "    </tr>\n",
       "    <tr>\n",
       "      <th>1</th>\n",
       "      <td>chemistry</td>\n",
       "      <td>456</td>\n",
       "    </tr>\n",
       "    <tr>\n",
       "      <th>2</th>\n",
       "      <td>medicine</td>\n",
       "      <td>455</td>\n",
       "    </tr>\n",
       "    <tr>\n",
       "      <th>3</th>\n",
       "      <td>nursery</td>\n",
       "      <td>384</td>\n",
       "    </tr>\n",
       "    <tr>\n",
       "      <th>4</th>\n",
       "      <td>pharmacology</td>\n",
       "      <td>457</td>\n",
       "    </tr>\n",
       "    <tr>\n",
       "      <th>5</th>\n",
       "      <td>psychology</td>\n",
       "      <td>453</td>\n",
       "    </tr>\n",
       "  </tbody>\n",
       "</table>\n",
       "</div>"
      ],
      "text/plain": [
       "       category  qid\n",
       "0       biology  452\n",
       "1     chemistry  456\n",
       "2      medicine  455\n",
       "3       nursery  384\n",
       "4  pharmacology  457\n",
       "5    psychology  453"
      ]
     },
     "execution_count": 6,
     "metadata": {},
     "output_type": "execute_result"
    }
   ],
   "source": [
    "training_categ_count"
   ]
  },
  {
   "cell_type": "code",
   "execution_count": 7,
   "id": "impressed-louisville",
   "metadata": {},
   "outputs": [
    {
     "data": {
      "text/plain": [
       "<seaborn.axisgrid.FacetGrid at 0x225788dfe50>"
      ]
     },
     "execution_count": 7,
     "metadata": {},
     "output_type": "execute_result"
    },
    {
     "data": {
      "image/png": "[encoded data removed]",
      "text/plain": [
       "<Figure size 360x360 with 1 Axes>"
      ]
     },
     "metadata": {
      "needs_background": "light"
     },
     "output_type": "display_data"
    }
   ],
   "source": [
    "g = sns.displot(training_categ_count, x=\"category\", weights ='qid' )\n",
    "g.set_xticklabels(rotation=30)"
   ]
  },
  {
   "cell_type": "code",
   "execution_count": 8,
   "id": "departmental-british",
   "metadata": {},
   "outputs": [
    {
     "data": {
      "text/html": [
       "<div>\n",
       "<style scoped>\n",
       "    .dataframe tbody tr th:only-of-type {\n",
       "        vertical-align: middle;\n",
       "    }\n",
       "\n",
       "    .dataframe tbody tr th {\n",
       "        vertical-align: top;\n",
       "    }\n",
       "\n",
       "    .dataframe thead th {\n",
       "        text-align: right;\n",
       "    }\n",
       "</style>\n",
       "<table border=\"1\" class=\"dataframe\">\n",
       "  <thead>\n",
       "    <tr style=\"text-align: right;\">\n",
       "      <th></th>\n",
       "      <th>category</th>\n",
       "      <th>qid</th>\n",
       "    </tr>\n",
       "  </thead>\n",
       "  <tbody>\n",
       "    <tr>\n",
       "      <th>0</th>\n",
       "      <td>biology</td>\n",
       "      <td>226</td>\n",
       "    </tr>\n",
       "    <tr>\n",
       "      <th>1</th>\n",
       "      <td>chemistry</td>\n",
       "      <td>228</td>\n",
       "    </tr>\n",
       "    <tr>\n",
       "      <th>2</th>\n",
       "      <td>medicine</td>\n",
       "      <td>231</td>\n",
       "    </tr>\n",
       "    <tr>\n",
       "      <th>3</th>\n",
       "      <td>nursery</td>\n",
       "      <td>230</td>\n",
       "    </tr>\n",
       "    <tr>\n",
       "      <th>4</th>\n",
       "      <td>pharmacology</td>\n",
       "      <td>225</td>\n",
       "    </tr>\n",
       "    <tr>\n",
       "      <th>5</th>\n",
       "      <td>psychology</td>\n",
       "      <td>226</td>\n",
       "    </tr>\n",
       "  </tbody>\n",
       "</table>\n",
       "</div>"
      ],
      "text/plain": [
       "       category  qid\n",
       "0       biology  226\n",
       "1     chemistry  228\n",
       "2      medicine  231\n",
       "3       nursery  230\n",
       "4  pharmacology  225\n",
       "5    psychology  226"
      ]
     },
     "execution_count": 8,
     "metadata": {},
     "output_type": "execute_result"
    }
   ],
   "source": [
    "validation_categ_count"
   ]
  },
  {
   "cell_type": "code",
   "execution_count": 9,
   "id": "appointed-decimal",
   "metadata": {},
   "outputs": [
    {
     "data": {
      "text/plain": [
       "<seaborn.axisgrid.FacetGrid at 0x225788df280>"
      ]
     },
     "execution_count": 9,
     "metadata": {},
     "output_type": "execute_result"
    },
    {
     "data": {
      "image/png": "[encoded data removed]",
      "text/plain": [
       "<Figure size 360x360 with 1 Axes>"
      ]
     },
     "metadata": {
      "needs_background": "light"
     },
     "output_type": "display_data"
    }
   ],
   "source": [
    "g = sns.displot(validation_categ_count, x=\"category\", weights ='qid' )\n",
    "g.set_xticklabels(rotation=30)"
   ]
  },
  {
   "cell_type": "code",
   "execution_count": 10,
   "id": "gentle-operation",
   "metadata": {},
   "outputs": [
    {
     "data": {
      "text/html": [
       "<div>\n",
       "<style scoped>\n",
       "    .dataframe tbody tr th:only-of-type {\n",
       "        vertical-align: middle;\n",
       "    }\n",
       "\n",
       "    .dataframe tbody tr th {\n",
       "        vertical-align: top;\n",
       "    }\n",
       "\n",
       "    .dataframe thead th {\n",
       "        text-align: right;\n",
       "    }\n",
       "</style>\n",
       "<table border=\"1\" class=\"dataframe\">\n",
       "  <thead>\n",
       "    <tr style=\"text-align: right;\">\n",
       "      <th></th>\n",
       "      <th>category</th>\n",
       "      <th>qid</th>\n",
       "    </tr>\n",
       "  </thead>\n",
       "  <tbody>\n",
       "    <tr>\n",
       "      <th>0</th>\n",
       "      <td>biology</td>\n",
       "      <td>454</td>\n",
       "    </tr>\n",
       "    <tr>\n",
       "      <th>1</th>\n",
       "      <td>chemistry</td>\n",
       "      <td>458</td>\n",
       "    </tr>\n",
       "    <tr>\n",
       "      <th>2</th>\n",
       "      <td>medicine</td>\n",
       "      <td>463</td>\n",
       "    </tr>\n",
       "    <tr>\n",
       "      <th>3</th>\n",
       "      <td>nursery</td>\n",
       "      <td>455</td>\n",
       "    </tr>\n",
       "    <tr>\n",
       "      <th>4</th>\n",
       "      <td>pharmacology</td>\n",
       "      <td>457</td>\n",
       "    </tr>\n",
       "    <tr>\n",
       "      <th>5</th>\n",
       "      <td>psychology</td>\n",
       "      <td>455</td>\n",
       "    </tr>\n",
       "  </tbody>\n",
       "</table>\n",
       "</div>"
      ],
      "text/plain": [
       "       category  qid\n",
       "0       biology  454\n",
       "1     chemistry  458\n",
       "2      medicine  463\n",
       "3       nursery  455\n",
       "4  pharmacology  457\n",
       "5    psychology  455"
      ]
     },
     "execution_count": 10,
     "metadata": {},
     "output_type": "execute_result"
    }
   ],
   "source": [
    "testing_categ_count"
   ]
  },
  {
   "cell_type": "code",
   "execution_count": 11,
   "id": "fluid-magazine",
   "metadata": {},
   "outputs": [
    {
     "data": {
      "text/plain": [
       "<seaborn.axisgrid.FacetGrid at 0x225790b3c10>"
      ]
     },
     "execution_count": 11,
     "metadata": {},
     "output_type": "execute_result"
    },
    {
     "data": {
      "image/png": "[encoded data removed]",
      "text/plain": [
       "<Figure size 360x360 with 1 Axes>"
      ]
     },
     "metadata": {
      "needs_background": "light"
     },
     "output_type": "display_data"
    }
   ],
   "source": [
    "g = sns.displot(testing_categ_count, x=\"category\", weights ='qid' )\n",
    "g.set_xticklabels(rotation=30)"
   ]
  },
  {
   "cell_type": "code",
   "execution_count": 12,
   "id": "reflected-yemen",
   "metadata": {},
   "outputs": [],
   "source": [
    "import spacy\n",
    "nlp = spacy.load('es_core_news_lg')  \n",
    "all_stopwords = nlp.Defaults.stop_words.union({'a', 'y', 'o', 'u', 'siguientes'})"
   ]
  },
  {
   "cell_type": "code",
   "execution_count": 13,
   "id": "freelance-support",
   "metadata": {
    "code_folding": []
   },
   "outputs": [],
   "source": [
    "def get_word_counter(dataset):\n",
    "    word_counter = Counter()\n",
    "    for row in dataset:\n",
    "    #     answers = row['answers']\n",
    "        question = row['qtext']\n",
    "        doc = nlp(question)\n",
    "        for token in doc:\n",
    "            if not token.is_punct:\n",
    "                token = str(token).lower()\n",
    "                if token not in all_stopwords:\n",
    "                    if token in word_counter:\n",
    "                        word_counter[token] += 1\n",
    "                    else:\n",
    "                        word_counter[token] = 1\n",
    "    return word_counter"
   ]
  },
  {
   "cell_type": "code",
   "execution_count": 14,
   "id": "solved-shelf",
   "metadata": {},
   "outputs": [],
   "source": [
    "training_counter = get_word_counter(training)"
   ]
  },
  {
   "cell_type": "code",
   "execution_count": 15,
   "id": "legitimate-adobe",
   "metadata": {},
   "outputs": [
    {
     "data": {
      "text/plain": [
       "[('años', 279),\n",
       " ('paciente', 231),\n",
       " ('tratamiento', 224),\n",
       " ('diagnóstico', 123),\n",
       " ('presenta', 116),\n",
       " ('correcta', 108),\n",
       " ('señale', 96),\n",
       " ('imagen', 94),\n",
       " ('tipo', 91),\n",
       " ('mujer', 83),\n",
       " ('dl', 79),\n",
       " ('consulta', 78),\n",
       " ('trastorno', 75),\n",
       " ('enfermedad', 73),\n",
       " ('mg', 73),\n",
       " ('forma', 72),\n",
       " ('pregunta', 72),\n",
       " ('probable', 72),\n",
       " ('acude', 71),\n",
       " ('edad', 70)]"
      ]
     },
     "execution_count": 15,
     "metadata": {},
     "output_type": "execute_result"
    }
   ],
   "source": [
    "training_counter.most_common(20)"
   ]
  },
  {
   "cell_type": "code",
   "execution_count": 16,
   "id": "initial-chassis",
   "metadata": {},
   "outputs": [],
   "source": [
    "validation_counter = get_word_counter(validation)"
   ]
  },
  {
   "cell_type": "code",
   "execution_count": 17,
   "id": "large-belle",
   "metadata": {},
   "outputs": [
    {
     "data": {
      "text/plain": [
       "[('años', 157),\n",
       " ('paciente', 113),\n",
       " ('tratamiento', 95),\n",
       " ('presenta', 77),\n",
       " ('correcta', 69),\n",
       " ('señale', 69),\n",
       " ('respuesta', 67),\n",
       " ('acude', 52),\n",
       " ('imagen', 52),\n",
       " ('diagnóstico', 51),\n",
       " ('tipo', 48),\n",
       " ('meses', 47),\n",
       " ('dolor', 45),\n",
       " ('trastorno', 45),\n",
       " ('relación', 43),\n",
       " ('consulta', 43),\n",
       " ('mujer', 40),\n",
       " ('exploración', 38),\n",
       " ('fármacos', 37),\n",
       " ('forma', 36)]"
      ]
     },
     "execution_count": 17,
     "metadata": {},
     "output_type": "execute_result"
    }
   ],
   "source": [
    "validation_counter.most_common(20)"
   ]
  },
  {
   "cell_type": "code",
   "execution_count": 18,
   "id": "utility-hierarchy",
   "metadata": {},
   "outputs": [],
   "source": [
    "testing_counter = get_word_counter(testing)"
   ]
  },
  {
   "cell_type": "code",
   "execution_count": 19,
   "id": "other-dollar",
   "metadata": {},
   "outputs": [
    {
     "data": {
      "text/plain": [
       "[('años', 329),\n",
       " ('paciente', 229),\n",
       " ('tratamiento', 218),\n",
       " ('señale', 158),\n",
       " ('correcta', 153),\n",
       " ('presenta', 139),\n",
       " ('diagnóstico', 125),\n",
       " ('consulta', 121),\n",
       " ('relación', 120),\n",
       " ('respuesta', 119),\n",
       " ('tipo', 116),\n",
       " ('acude', 113),\n",
       " ('imagen', 111),\n",
       " ('mujer', 108),\n",
       " ('dolor', 99),\n",
       " ('salud', 96),\n",
       " ('trastorno', 96),\n",
       " ('afirmaciones', 96),\n",
       " ('hombre', 92),\n",
       " ('mg', 79)]"
      ]
     },
     "execution_count": 19,
     "metadata": {},
     "output_type": "execute_result"
    }
   ],
   "source": [
    "testing_counter.most_common(20)"
   ]
  },
  {
   "cell_type": "code",
   "execution_count": null,
   "id": "tight-albuquerque",
   "metadata": {},
   "outputs": [],
   "source": []
  }
 ],
 "metadata": {
  "kernelspec": {
   "display_name": "Python 3",
   "language": "python",
   "name": "python3"
  },
  "language_info": {
   "codemirror_mode": {
    "name": "ipython",
    "version": 3
   },
   "file_extension": ".py",
   "mimetype": "text/x-python",
   "name": "python",
   "nbconvert_exporter": "python",
   "pygments_lexer": "ipython3",
   "version": "3.8.5"
  }
 },
 "nbformat": 4,
 "nbformat_minor": 5
}
