{
 "cells": [
  {
   "cell_type": "code",
   "execution_count": null,
   "id": "circular-aerospace",
   "metadata": {},
   "outputs": [],
   "source": [
    "import pandas as pd\n",
    "import numpy as np\n",
    " \n",
    "import matplotlib.pyplot as plt\n",
    "import seaborn as sns\n",
    "\n",
    "from collections import Counter\n",
    "from wordcloud import WordCloud, STOPWORDS, ImageColorGenerator\n",
    "\n",
    "from utils_data import filter_by_category\n",
    "\n",
    "%matplotlib inline\n",
    "%load_ext autoreload\n",
    "%autoreload 2"
   ]
  },
  {
   "cell_type": "code",
   "execution_count": null,
   "id": "friendly-chocolate",
   "metadata": {},
   "outputs": [],
   "source": [
    "sns.set(style=\"whitegrid\", context='talk') #palette=['#D44D5C', '#43AA8B']"
   ]
  },
  {
   "cell_type": "code",
   "execution_count": null,
   "id": "rocky-filling",
   "metadata": {},
   "outputs": [],
   "source": [
    "from datasets import load_dataset\n",
    "\n",
    "data_es = load_dataset('head_qa', 'es' )\n",
    "data_es"
   ]
  },
  {
   "cell_type": "code",
   "execution_count": null,
   "id": "humanitarian-theorem",
   "metadata": {},
   "outputs": [],
   "source": [
    "training, validation, testing = data_es['train'], data_es['validation'], data_es['test']"
   ]
  },
  {
   "cell_type": "code",
   "execution_count": null,
   "id": "heated-study",
   "metadata": {},
   "outputs": [],
   "source": [
    "pd.DataFrame(data=training)"
   ]
  },
  {
   "cell_type": "code",
   "execution_count": null,
   "id": "actual-paper",
   "metadata": {},
   "outputs": [],
   "source": [
    "training_categ_count = pd.DataFrame(training).groupby(by='category', as_index=False).agg({'qid': 'count'})\n",
    "validation_categ_count = pd.DataFrame(validation).groupby(by='category', as_index=False).agg({'qid': 'count'})\n",
    "testing_categ_count = pd.DataFrame(testing).groupby(by='category', as_index=False).agg({'qid': 'count'})"
   ]
  },
  {
   "cell_type": "code",
   "execution_count": null,
   "id": "leading-physiology",
   "metadata": {},
   "outputs": [],
   "source": [
    "g = sns.histplot (training_categ_count, x=\"category\", weights ='qid')\n",
    "g.set_xticklabels(rotation=45, labels=['Biología', 'Química', 'Medicina', 'Enfermería', 'Farmacología',  'Psicología'])\n",
    "plt.xlabel(\"Train\", fontsize=20)\n",
    "plt.ylabel(\"Cantidad de instancias\",fontsize=16)"
   ]
  },
  {
   "cell_type": "code",
   "execution_count": null,
   "id": "embedded-architect",
   "metadata": {},
   "outputs": [],
   "source": [
    "sns.set(style=\"whitegrid\", context='talk', palette=['#FF2E2E']) #palette=['#D44D5C', '#43AA8B']\n",
    "g = sns.histplot (validation_categ_count, x=\"category\", weights ='qid')\n",
    "g.set_xticklabels(rotation=45, labels=['Biología', 'Química', 'Medicina', 'Enfermería', 'Farmacología',  'Psicología'])\n",
    "plt.xlabel(\"Dev\", fontsize=22)\n",
    "plt.ylabel(\"Cantidad de instancias\",fontsize=16)"
   ]
  },
  {
   "cell_type": "code",
   "execution_count": null,
   "id": "protective-technology",
   "metadata": {},
   "outputs": [],
   "source": [
    "sns.set(style=\"whitegrid\", context='talk', palette=['#43AA8B']) #palette=['#D44D5C', '#43AA8B']\n",
    "g = sns.histplot (testing_categ_count, x=\"category\", weights ='qid')\n",
    "g.set_xticklabels(rotation=45, labels=['Biología', 'Química', 'Medicina', 'Enfermería', 'Farmacología',  'Psicología'])\n",
    "plt.xlabel(\"Test\", fontsize=22)\n",
    "plt.ylabel(\"Cantidad de instancias\",fontsize=16)"
   ]
  },
  {
   "cell_type": "code",
   "execution_count": null,
   "id": "caring-catering",
   "metadata": {},
   "outputs": [],
   "source": [
    "# g = sns.displot(validation_categ_count, x=\"Categoria\", weights ='qid', )\n",
    "# g.set_xticklabels(rotation=45)\n",
    "# plt.xlabel(\"\", fontsize=22)\n",
    "# plt.ylabel(\"Cantidad de instancias\",fontsize=16)"
   ]
  },
  {
   "cell_type": "code",
   "execution_count": null,
   "id": "heavy-quest",
   "metadata": {},
   "outputs": [],
   "source": [
    "g = sns.displot(testing_categ_count, x=\"category\", weights ='qid', )\n",
    "g.set_xticklabels(rotation=45)\n",
    "plt.xlabel(\"\", fontsize=22)\n",
    "plt.ylabel(\"Cantidad de instancias\",fontsize=16)"
   ]
  },
  {
   "cell_type": "code",
   "execution_count": null,
   "id": "antique-environment",
   "metadata": {},
   "outputs": [],
   "source": [
    "import spacy\n",
    "nlp = spacy.load('es_core_news_lg')  \n",
    "all_stopwords = nlp.Defaults.stop_words.union({'a', 'y', 'o', 'u', 'siguientes'})"
   ]
  },
  {
   "cell_type": "code",
   "execution_count": null,
   "id": "current-queens",
   "metadata": {
    "code_folding": []
   },
   "outputs": [],
   "source": [
    "def get_word_counter(dataset):\n",
    "    word_counter = Counter()\n",
    "    for row in dataset:\n",
    "        answers = row['answers']\n",
    "        question = row['qtext']\n",
    "        doc = nlp(question)\n",
    "        for token in doc:\n",
    "            if not token.is_punct:\n",
    "                token = str(token).lower()\n",
    "                if token not in all_stopwords:\n",
    "                    if token in word_counter:\n",
    "                        word_counter[token] += 1\n",
    "                    else:\n",
    "                        word_counter[token] = 1\n",
    "        for a in answers:\n",
    "            atext = a['atext']\n",
    "            doc = nlp(atext)\n",
    "            for token in doc:\n",
    "                if not token.is_punct:\n",
    "                    token = str(token).lower()\n",
    "                    if token not in all_stopwords:\n",
    "                        if token in word_counter:\n",
    "                            word_counter[token] += 1\n",
    "                        else:\n",
    "                            word_counter[token] = 1            \n",
    "    return word_counter"
   ]
  },
  {
   "cell_type": "code",
   "execution_count": null,
   "id": "reserved-withdrawal",
   "metadata": {},
   "outputs": [],
   "source": [
    "training_counter = get_word_counter(training)\n",
    "validation_counter = get_word_counter(validation)\n",
    "testing_counter = get_word_counter(testing)"
   ]
  },
  {
   "cell_type": "code",
   "execution_count": null,
   "id": "monetary-conversation",
   "metadata": {},
   "outputs": [],
   "source": [
    "t_most_common = training_counter.most_common(20)\n",
    "t_most_common"
   ]
  },
  {
   "cell_type": "code",
   "execution_count": null,
   "id": "intellectual-lighter",
   "metadata": {},
   "outputs": [],
   "source": [
    "items, values = [], []\n",
    "for item, value in t_most_common:\n",
    "    items.append(items)\n",
    "    values.append(value)"
   ]
  },
  {
   "cell_type": "code",
   "execution_count": null,
   "id": "subtle-antigua",
   "metadata": {},
   "outputs": [],
   "source": [
    "plt.bar(items, values)"
   ]
  },
  {
   "cell_type": "code",
   "execution_count": null,
   "id": "phantom-template",
   "metadata": {},
   "outputs": [],
   "source": [
    "plt.bar(items, values)\n",
    "plt.title(\"10 most frequent tokens in description\")\n",
    "plt.ylabel(\"Frequency\")\n",
    "plt.xlabel(\"Words\")\n",
    "plt.show()"
   ]
  },
  {
   "cell_type": "code",
   "execution_count": null,
   "id": "appointed-individual",
   "metadata": {},
   "outputs": [],
   "source": [
    "# g = sns.histplot(data=items)\n",
    "# g.set_xticklabels(rotation=45, labels=values)\n",
    "# plt.xlabel(\"Train\", fontsize=20)\n",
    "# plt.ylabel(\"Cantidad de instancias\",fontsize=16)"
   ]
  },
  {
   "cell_type": "code",
   "execution_count": null,
   "id": "premium-rough",
   "metadata": {},
   "outputs": [],
   "source": [
    "tdf = training_counter.to_df()\n",
    "g = sns.histplot (training_categ_count, x=\"category\", weights ='qid')\n",
    "g.set_xticklabels(rotation=45, labels=['Biología', 'Química', 'Medicina', 'Enfermería', 'Farmacología',  'Psicología'])\n",
    "plt.xlabel(\"Train\", fontsize=20)\n",
    "plt.ylabel(\"Cantidad de instancias\",fontsize=16)"
   ]
  },
  {
   "cell_type": "code",
   "execution_count": null,
   "id": "touched-wallpaper",
   "metadata": {},
   "outputs": [],
   "source": [
    "validation_counter.most_common(20)"
   ]
  },
  {
   "cell_type": "code",
   "execution_count": null,
   "id": "better-flower",
   "metadata": {},
   "outputs": [],
   "source": [
    "testing_counter.most_common(20)"
   ]
  },
  {
   "cell_type": "code",
   "execution_count": null,
   "id": "thermal-simpson",
   "metadata": {},
   "outputs": [],
   "source": [
    "wc = WordCloud(background_color=\"white\", width=2000,height=1000).generate_from_frequencies(training_counter)\n",
    "plt.axis('off')\n",
    "plt.imshow(wc)"
   ]
  },
  {
   "cell_type": "code",
   "execution_count": null,
   "id": "fantastic-greensboro",
   "metadata": {},
   "outputs": [],
   "source": [
    "wc = WordCloud(background_color=\"white\", width=2000,height=1000).generate_from_frequencies(testing_counter)\n",
    "plt.axis('off')\n",
    "plt.imshow(wc)"
   ]
  },
  {
   "cell_type": "code",
   "execution_count": null,
   "id": "iraqi-armor",
   "metadata": {},
   "outputs": [],
   "source": [
    "wc = WordCloud(background_color=\"white\", width=2000,height=1000).generate_from_frequencies(validation_counter)\n",
    "plt.axis('off')\n",
    "plt.imshow(wc)"
   ]
  },
  {
   "cell_type": "markdown",
   "id": "adjacent-modification",
   "metadata": {},
   "source": [
    "### Por categorías"
   ]
  },
  {
   "cell_type": "code",
   "execution_count": null,
   "id": "single-sixth",
   "metadata": {},
   "outputs": [],
   "source": [
    "#Biologia\n",
    "data = filter_by_category(training, 'biology')\n",
    "biology_training_wc = get_word_counter(data)\n",
    "wc = WordCloud(background_color=\"white\", width=1000,height=500).generate_from_frequencies(biology_training_wc)\n",
    "plt.axis('off')\n",
    "plt.imshow(wc)"
   ]
  },
  {
   "cell_type": "code",
   "execution_count": null,
   "id": "chicken-communist",
   "metadata": {},
   "outputs": [],
   "source": [
    "data = filter_by_category(training, 'nursery')\n",
    "biology_training_wc = get_word_counter(data)\n",
    "wc = WordCloud(background_color=\"white\", width=1000,height=500).generate_from_frequencies(biology_training_wc)\n",
    "plt.axis('off')\n",
    "plt.imshow(wc)"
   ]
  },
  {
   "cell_type": "code",
   "execution_count": null,
   "id": "young-warner",
   "metadata": {},
   "outputs": [],
   "source": [
    "data = filter_by_category(training, 'pharmacology')\n",
    "medicine_training_wc = get_word_counter(data)\n",
    "wc = WordCloud(background_color=\"white\", width=1000,height=500).generate_from_frequencies(medicine_training_wc)\n",
    "plt.axis('off')\n",
    "plt.imshow(wc)"
   ]
  },
  {
   "cell_type": "code",
   "execution_count": null,
   "id": "dimensional-ecology",
   "metadata": {},
   "outputs": [],
   "source": [
    "data = filter_by_category(training, 'medicine')\n",
    "medicine_training_wc = get_word_counter(data)\n",
    "wc = WordCloud(background_color=\"white\", width=1000,height=500).generate_from_frequencies(medicine_training_wc)\n",
    "plt.axis('off')\n",
    "plt.imshow(wc)"
   ]
  },
  {
   "cell_type": "code",
   "execution_count": null,
   "id": "southeast-armstrong",
   "metadata": {},
   "outputs": [],
   "source": [
    "data = filter_by_category(training, 'psychology')\n",
    "medicine_training_wc = get_word_counter(data)\n",
    "wc = WordCloud(background_color=\"white\", width=1000,height=500).generate_from_frequencies(medicine_training_wc)\n",
    "plt.axis('off')\n",
    "plt.imshow(wc)"
   ]
  },
  {
   "cell_type": "code",
   "execution_count": null,
   "id": "statistical-package",
   "metadata": {},
   "outputs": [],
   "source": [
    "data = filter_by_category(training, 'chemistry')\n",
    "medicine_training_wc = get_word_counter(data)\n",
    "wc = WordCloud(background_color=\"white\", width=1000,height=500).generate_from_frequencies(medicine_training_wc)\n",
    "plt.axis('off')\n",
    "plt.imshow(wc)"
   ]
  },
  {
   "cell_type": "code",
   "execution_count": null,
   "id": "facial-approval",
   "metadata": {},
   "outputs": [],
   "source": []
  }
 ],
 "metadata": {
  "kernelspec": {
   "display_name": "Python 3",
   "language": "python",
   "name": "python3"
  },
  "language_info": {
   "codemirror_mode": {
    "name": "ipython",
    "version": 3
   },
   "file_extension": ".py",
   "mimetype": "text/x-python",
   "name": "python",
   "nbconvert_exporter": "python",
   "pygments_lexer": "ipython3",
   "version": "3.8.5"
  }
 },
 "nbformat": 4,
 "nbformat_minor": 5
}
