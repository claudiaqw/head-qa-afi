{
 "cells": [
  {
   "cell_type": "code",
   "execution_count": 1,
   "metadata": {},
   "outputs": [
    {
     "name": "stderr",
     "output_type": "stream",
     "text": [
      "C:\\Users\\tec005m\\Anaconda3\\envs\\afi\\lib\\site-packages\\gensim\\similarities\\__init__.py:15: UserWarning: The gensim.similarities.levenshtein submodule is disabled, because the optional Levenshtein package <https://pypi.org/project/python-Levenshtein/> is unavailable. Install Levenhstein (e.g. `pip install python-Levenshtein`) to suppress this warning.\n",
      "  warnings.warn(msg)\n"
     ]
    }
   ],
   "source": [
    "import os\n",
    "import pandas as pd\n",
    "import numpy as np \n",
    "import matplotlib.pyplot as plt\n",
    "import seaborn as sns\n",
    "from collections import Counter\n",
    "\n",
    "import torch\n",
    "import torch.nn as nn\n",
    "import torch.nn.functional as F\n",
    "from torch.utils.data import Dataset, DataLoader\n",
    "from torch.nn.utils.rnn import pack_padded_sequence, pad_packed_sequence\n",
    "\n",
    "from utils_data import Vocabulary, Vectorizer, HeadQA, clean_words, parse_dataset, random_oversamplig, save_dataset_to_pickle, load_dataset_from_pickle \n",
    "from training import train, validate, evaluate, evaluate_better, make_embedding_matrix, make_embedding_matrix, evaluator, evaluator_ir\n",
    "from training import get_optimizer\n",
    "\n",
    "from supervised_models import BiLSTM_model\n",
    "\n",
    "%matplotlib inline\n",
    "%load_ext autoreload\n",
    "%autoreload 2"
   ]
  },
  {
   "cell_type": "code",
   "execution_count": 2,
   "metadata": {},
   "outputs": [
    {
     "name": "stderr",
     "output_type": "stream",
     "text": [
      "Reusing dataset head_qa (C:\\Users\\tec005m\\.cache\\huggingface\\datasets\\head_qa\\es\\1.1.0\\473dc5357942a3ff52963bd73cad0d167bd1bbc1ca5ca0732ee7372b480dd735)\n"
     ]
    }
   ],
   "source": [
    "from datasets import load_dataset\n",
    "\n",
    "data_es = load_dataset('head_qa', 'es' )"
   ]
  },
  {
   "cell_type": "code",
   "execution_count": 3,
   "metadata": {},
   "outputs": [],
   "source": [
    "training, validation, testing = data_es['train'], data_es['validation'], data_es['test']"
   ]
  },
  {
   "cell_type": "code",
   "execution_count": 4,
   "metadata": {},
   "outputs": [],
   "source": [
    "training_instances = load_dataset_from_pickle('../data/training.pickle')\n",
    "validation_instances = load_dataset_from_pickle('../data/validation.pickle')\n",
    "testing_instances = load_dataset_from_pickle('../data/testing.pickle')\n",
    "mixed_training = load_dataset_from_pickle('../data/mixed_oversampling_training.pickle')"
   ]
  },
  {
   "cell_type": "code",
   "execution_count": 5,
   "metadata": {},
   "outputs": [],
   "source": [
    "vectorizer = Vectorizer.vectorize_training(mixed_training)\n",
    "vocab = vectorizer.sentence_vocab\n",
    "label_vocab = vectorizer.label_vocab"
   ]
  },
  {
   "cell_type": "code",
   "execution_count": 6,
   "metadata": {},
   "outputs": [],
   "source": [
    "trainset = HeadQA(instances=mixed_training, vectorizer=vectorizer, right_padding=False, max_length=30)\n",
    "validset = HeadQA(instances=validation_instances, vectorizer=vectorizer, right_padding=False, max_length=30)\n",
    "testset = HeadQA(instances=testing_instances, vectorizer=vectorizer, right_padding=False, max_length=30)"
   ]
  },
  {
   "cell_type": "code",
   "execution_count": 7,
   "metadata": {},
   "outputs": [],
   "source": [
    "batch_size = 32\n",
    "train_dt = DataLoader(trainset, batch_size=batch_size,drop_last=True)\n",
    "valid_dt = DataLoader(validset, batch_size=batch_size,drop_last=True)\n",
    "test_dt = DataLoader(testset, batch_size=batch_size,drop_last=True)"
   ]
  },
  {
   "cell_type": "code",
   "execution_count": 8,
   "metadata": {},
   "outputs": [],
   "source": [
    "word_to_idx = load_dataset_from_pickle('trained_models/biomedical_embeddings/word_to_index.pickle')\n",
    "embeddings = load_dataset_from_pickle('trained_models/biomedical_embeddings/wordvectors.pickle')"
   ]
  },
  {
   "cell_type": "code",
   "execution_count": 9,
   "metadata": {},
   "outputs": [],
   "source": [
    "embedding_file = \"trained_models/biomedical_embeddings/Scielo_wiki_FastText300.vec\"\n",
    "words = vocab.vocab2index.keys()\n",
    "embedding_matrix = make_embedding_matrix(embedding_file, list(words), word_to_idx, embeddings)"
   ]
  },
  {
   "cell_type": "code",
   "execution_count": 10,
   "metadata": {},
   "outputs": [
    {
     "name": "stderr",
     "output_type": "stream",
     "text": [
      "C:\\Users\\tec005m\\Anaconda3\\envs\\afi\\lib\\site-packages\\torch\\nn\\modules\\rnn.py:60: UserWarning: dropout option adds dropout after all but last recurrent layer, so non-zero dropout expects num_layers greater than 1, but got dropout=0.5 and num_layers=1\n",
      "  warnings.warn(\"dropout option adds dropout after all but last \"\n"
     ]
    }
   ],
   "source": [
    "torch.random.manual_seed(42)\n",
    "model = BiLSTM_model(embedding_matrix.shape[1], embedding_matrix.shape[0], 1, \n",
    "                     pretrained_embeddings=embedding_matrix, max_length=trainset.max_length)\n",
    "optimizer = get_optimizer(model, lr = 0.001, wd = 1e-5)"
   ]
  },
  {
   "cell_type": "code",
   "execution_count": 11,
   "metadata": {},
   "outputs": [
    {
     "name": "stderr",
     "output_type": "stream",
     "text": [
      "C:\\Users\\tec005m\\Anaconda3\\envs\\afi\\lib\\site-packages\\torch\\nn\\functional.py:1709: UserWarning: nn.functional.sigmoid is deprecated. Use torch.sigmoid instead.\n",
      "  warnings.warn(\"nn.functional.sigmoid is deprecated. Use torch.sigmoid instead.\")\n"
     ]
    },
    {
     "name": "stdout",
     "output_type": "stream",
     "text": [
      "Epoch 0 train loss  0.3673 valid loss 0.455 and accuracy 0.2500\n",
      "Epoch 1 train loss  57.1644 valid loss 0.455 and accuracy 0.2500\n",
      "Epoch 2 train loss  57.1644 valid loss 0.455 and accuracy 0.2500\n",
      "Epoch 3 train loss  57.1644 valid loss 0.455 and accuracy 0.2500\n",
      "Epoch 4 train loss  21.4802 valid loss 0.258 and accuracy 0.2500\n",
      "Epoch 5 train loss  1.9695 valid loss 0.058 and accuracy 0.2500\n",
      "Epoch 6 train loss  0.5318 valid loss 0.055 and accuracy 0.2500\n",
      "Epoch 7 train loss  0.5895 valid loss 0.054 and accuracy 0.2500\n",
      "Epoch 8 train loss  0.5624 valid loss 0.039 and accuracy 0.2500\n",
      "Epoch 9 train loss  0.4863 valid loss 0.037 and accuracy 0.2500\n",
      "Epoch 10 train loss  0.5024 valid loss 0.043 and accuracy 0.2500\n",
      "Epoch 11 train loss  0.5171 valid loss 0.049 and accuracy 0.2500\n",
      "Epoch 12 train loss  0.5272 valid loss 0.056 and accuracy 0.2500\n",
      "Epoch 13 train loss  0.5570 valid loss 0.055 and accuracy 0.2500\n",
      "Epoch 14 train loss  0.5365 valid loss 0.063 and accuracy 0.2500\n",
      "Epoch 15 train loss  0.5758 valid loss 0.209 and accuracy 0.2500\n",
      "Epoch 16 train loss  1.2445 valid loss 0.177 and accuracy 0.2500\n",
      "Epoch 17 train loss  1.0276 valid loss 0.046 and accuracy 0.2500\n",
      "Epoch 18 train loss  0.5507 valid loss 0.042 and accuracy 0.2500\n",
      "Epoch 19 train loss  0.5402 valid loss 0.048 and accuracy 0.2500\n",
      "Epoch 20 train loss  0.5517 valid loss 0.040 and accuracy 0.2500\n",
      "Epoch 21 train loss  0.5233 valid loss 0.060 and accuracy 0.2500\n",
      "Epoch 22 train loss  0.5626 valid loss 0.044 and accuracy 0.2500\n",
      "Epoch 23 train loss  0.4842 valid loss 0.047 and accuracy 0.2500\n",
      "Epoch 24 train loss  0.5370 valid loss 0.039 and accuracy 0.2500\n",
      "Epoch 25 train loss  0.5029 valid loss 0.049 and accuracy 0.2500\n",
      "Epoch 26 train loss  0.4976 valid loss 0.045 and accuracy 0.2500\n",
      "Epoch 27 train loss  0.5000 valid loss 0.042 and accuracy 0.2500\n",
      "Epoch 28 train loss  0.5072 valid loss 0.044 and accuracy 0.2500\n",
      "Epoch 29 train loss  0.4996 valid loss 0.042 and accuracy 0.2500\n",
      "Epoch 30 train loss  0.5719 valid loss 0.038 and accuracy 0.2500\n",
      "Epoch 31 train loss  0.4967 valid loss 0.039 and accuracy 0.2500\n",
      "Epoch 32 train loss  0.5124 valid loss 0.047 and accuracy 0.2500\n",
      "Epoch 33 train loss  0.5610 valid loss 0.039 and accuracy 0.2500\n",
      "Epoch 34 train loss  0.4961 valid loss 0.044 and accuracy 0.2500\n",
      "Epoch 35 train loss  0.4992 valid loss 0.040 and accuracy 0.2500\n",
      "Epoch 36 train loss  0.4955 valid loss 0.040 and accuracy 0.2500\n",
      "Epoch 37 train loss  0.4952 valid loss 0.045 and accuracy 0.2500\n",
      "Epoch 38 train loss  0.5573 valid loss 0.048 and accuracy 0.2500\n",
      "Epoch 39 train loss  0.5288 valid loss 0.049 and accuracy 0.2500\n",
      "Epoch 40 train loss  0.5424 valid loss 0.050 and accuracy 0.2500\n",
      "Epoch 41 train loss  0.5635 valid loss 0.040 and accuracy 0.2500\n",
      "Epoch 42 train loss  0.5248 valid loss 0.048 and accuracy 0.2500\n",
      "Epoch 43 train loss  0.5134 valid loss 0.036 and accuracy 0.2500\n",
      "Epoch 44 train loss  0.4996 valid loss 0.051 and accuracy 0.2500\n",
      "Epoch 45 train loss  0.5272 valid loss 0.046 and accuracy 0.2500\n",
      "Epoch 46 train loss  0.5752 valid loss 0.033 and accuracy 0.2500\n",
      "Epoch 47 train loss  0.5152 valid loss 0.054 and accuracy 0.2500\n",
      "Epoch 48 train loss  0.5083 valid loss 0.032 and accuracy 0.2500\n",
      "Epoch 49 train loss  0.5141 valid loss 0.047 and accuracy 0.2500\n"
     ]
    }
   ],
   "source": [
    "training_results = train(model, optimizer, train_dt, valid_dt, validate, epochs=50)"
   ]
  },
  {
   "cell_type": "code",
   "execution_count": 12,
   "metadata": {},
   "outputs": [
    {
     "data": {
      "text/plain": [
       "(tensor([0.2408]), -50)"
      ]
     },
     "execution_count": 12,
     "metadata": {},
     "output_type": "execute_result"
    }
   ],
   "source": [
    "acc, points = evaluate(model, validation, trainset.encode, evaluator)\n",
    "acc, points"
   ]
  },
  {
   "cell_type": "code",
   "execution_count": 13,
   "metadata": {},
   "outputs": [
    {
     "data": {
      "text/plain": [
       "(tensor([0.2465]), -38)"
      ]
     },
     "execution_count": 13,
     "metadata": {},
     "output_type": "execute_result"
    }
   ],
   "source": [
    "acc, points = evaluate(model, testing, trainset.encode, evaluator)\n",
    "acc, points"
   ]
  },
  {
   "cell_type": "code",
   "execution_count": 14,
   "metadata": {},
   "outputs": [],
   "source": [
    "save_dataset_to_pickle('results_v2/train_results_bilstm.pickle', training_results)\n",
    "training_results = load_dataset_from_pickle('results_v2/train_results_bilstm.pickle')"
   ]
  },
  {
   "cell_type": "code",
   "execution_count": 15,
   "metadata": {
    "code_folding": []
   },
   "outputs": [],
   "source": [
    "model_path = os.getcwd() + '/trained_models_v2/bilstm'\n",
    "torch.save(model.state_dict(), model_path)"
   ]
  },
  {
   "cell_type": "code",
   "execution_count": 16,
   "metadata": {},
   "outputs": [
    {
     "data": {
      "text/plain": [
       "BiLSTM_model(\n",
       "  (emb): Embedding(28831, 300, padding_idx=0)\n",
       "  (dropout): Dropout(p=0.3, inplace=False)\n",
       "  (lstm): LSTM(300, 64, batch_first=True, dropout=0.5, bidirectional=True)\n",
       "  (attn): Linear(in_features=128, out_features=30, bias=True)\n",
       "  (linear): Linear(in_features=3840, out_features=1, bias=True)\n",
       ")"
      ]
     },
     "execution_count": 16,
     "metadata": {},
     "output_type": "execute_result"
    }
   ],
   "source": [
    "model = BiLSTM_model(embedding_matrix.shape[1], embedding_matrix.shape[0], 1, \n",
    "                     pretrained_embeddings=embedding_matrix, max_length=trainset.max_length)\n",
    "model.load_state_dict(torch.load(model_path))\n",
    "model.eval()"
   ]
  },
  {
   "cell_type": "code",
   "execution_count": 17,
   "metadata": {},
   "outputs": [
    {
     "data": {
      "text/plain": [
       "(0.24080546,\n",
       " -8.333333333333334,\n",
       " [tensor(0.2566),\n",
       "  tensor(0.2217),\n",
       "  tensor(0.2267),\n",
       "  tensor(0.2597),\n",
       "  tensor(0.2257),\n",
       "  tensor(0.2544)],\n",
       " [6, -26, -21, 9, -22, 4])"
      ]
     },
     "execution_count": 17,
     "metadata": {},
     "output_type": "execute_result"
    }
   ],
   "source": [
    "acc, points, acc_list, points_list = evaluate_better(model, validation, trainset.encode, evaluator)\n",
    "acc, points, acc_list, points_list"
   ]
  },
  {
   "cell_type": "code",
   "execution_count": 18,
   "metadata": {},
   "outputs": [
    {
     "data": {
      "text/plain": [
       "(0.24649875,\n",
       " -3.1666666666666665,\n",
       " [tensor(0.2544),\n",
       "  tensor(0.2108),\n",
       "  tensor(0.2939),\n",
       "  tensor(0.2284),\n",
       "  tensor(0.2652),\n",
       "  tensor(0.2511),\n",
       "  tensor(0.1903),\n",
       "  tensor(0.2414),\n",
       "  tensor(0.2620),\n",
       "  tensor(0.2251),\n",
       "  tensor(0.2756),\n",
       "  tensor(0.2599)],\n",
       " [4, -35, 40, -20, 14, 1, -54, -8, 11, -23, 23, 9])"
      ]
     },
     "execution_count": 18,
     "metadata": {},
     "output_type": "execute_result"
    }
   ],
   "source": [
    "acc, points, acc_list, points_list = evaluate_better(model, testing, trainset.encode, evaluator)\n",
    "acc, points, acc_list, points_list"
   ]
  },
  {
   "cell_type": "code",
   "execution_count": null,
   "metadata": {},
   "outputs": [],
   "source": []
  }
 ],
 "metadata": {
  "kernelspec": {
   "display_name": "Python 3",
   "language": "python",
   "name": "python3"
  },
  "language_info": {
   "codemirror_mode": {
    "name": "ipython",
    "version": 3
   },
   "file_extension": ".py",
   "mimetype": "text/x-python",
   "name": "python",
   "nbconvert_exporter": "python",
   "pygments_lexer": "ipython3",
   "version": "3.8.5"
  }
 },
 "nbformat": 4,
 "nbformat_minor": 4
}
